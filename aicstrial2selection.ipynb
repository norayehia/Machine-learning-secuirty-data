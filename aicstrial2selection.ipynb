{
  "nbformat": 4,
  "nbformat_minor": 0,
  "metadata": {
    "colab": {
      "name": "aicstrial2selection.ipynb",
      "provenance": [],
      "collapsed_sections": []
    },
    "kernelspec": {
      "name": "python3",
      "display_name": "Python 3"
    },
    "language_info": {
      "name": "python"
    }
  },
  "cells": [
    {
      "cell_type": "code",
      "metadata": {
        "colab": {
          "base_uri": "https://localhost:8080/"
        },
        "id": "FKf8g4esxR4C",
        "outputId": "50f6a396-c215-48ef-88ae-d3e6fd0d8564"
      },
      "source": [
        "pip install category_encoders"
      ],
      "execution_count": null,
      "outputs": [
        {
          "output_type": "stream",
          "name": "stdout",
          "text": [
            "Collecting category_encoders\n",
            "  Downloading category_encoders-2.3.0-py2.py3-none-any.whl (82 kB)\n",
            "\u001b[?25l\r\u001b[K     |████                            | 10 kB 19.2 MB/s eta 0:00:01\r\u001b[K     |████████                        | 20 kB 13.4 MB/s eta 0:00:01\r\u001b[K     |████████████                    | 30 kB 9.9 MB/s eta 0:00:01\r\u001b[K     |████████████████                | 40 kB 8.2 MB/s eta 0:00:01\r\u001b[K     |████████████████████            | 51 kB 5.4 MB/s eta 0:00:01\r\u001b[K     |████████████████████████        | 61 kB 5.6 MB/s eta 0:00:01\r\u001b[K     |████████████████████████████    | 71 kB 5.3 MB/s eta 0:00:01\r\u001b[K     |███████████████████████████████▉| 81 kB 6.0 MB/s eta 0:00:01\r\u001b[K     |████████████████████████████████| 82 kB 248 kB/s \n",
            "\u001b[?25hRequirement already satisfied: statsmodels>=0.9.0 in /usr/local/lib/python3.7/dist-packages (from category_encoders) (0.10.2)\n",
            "Requirement already satisfied: patsy>=0.5.1 in /usr/local/lib/python3.7/dist-packages (from category_encoders) (0.5.2)\n",
            "Requirement already satisfied: scikit-learn>=0.20.0 in /usr/local/lib/python3.7/dist-packages (from category_encoders) (0.22.2.post1)\n",
            "Requirement already satisfied: scipy>=1.0.0 in /usr/local/lib/python3.7/dist-packages (from category_encoders) (1.4.1)\n",
            "Requirement already satisfied: pandas>=0.21.1 in /usr/local/lib/python3.7/dist-packages (from category_encoders) (1.1.5)\n",
            "Requirement already satisfied: numpy>=1.14.0 in /usr/local/lib/python3.7/dist-packages (from category_encoders) (1.19.5)\n",
            "Requirement already satisfied: pytz>=2017.2 in /usr/local/lib/python3.7/dist-packages (from pandas>=0.21.1->category_encoders) (2018.9)\n",
            "Requirement already satisfied: python-dateutil>=2.7.3 in /usr/local/lib/python3.7/dist-packages (from pandas>=0.21.1->category_encoders) (2.8.2)\n",
            "Requirement already satisfied: six in /usr/local/lib/python3.7/dist-packages (from patsy>=0.5.1->category_encoders) (1.15.0)\n",
            "Requirement already satisfied: joblib>=0.11 in /usr/local/lib/python3.7/dist-packages (from scikit-learn>=0.20.0->category_encoders) (1.1.0)\n",
            "Installing collected packages: category-encoders\n",
            "Successfully installed category-encoders-2.3.0\n"
          ]
        }
      ]
    },
    {
      "cell_type": "code",
      "metadata": {
        "colab": {
          "base_uri": "https://localhost:8080/"
        },
        "id": "eznbuznJ19PF",
        "outputId": "3ca0fdfe-4e87-4ddc-ddfb-9c365491187e"
      },
      "source": [
        "\n",
        "from google.colab import drive\n",
        "drive.mount('/content/drive')"
      ],
      "execution_count": null,
      "outputs": [
        {
          "output_type": "stream",
          "name": "stdout",
          "text": [
            "Mounted at /content/drive\n"
          ]
        }
      ]
    },
    {
      "cell_type": "markdown",
      "metadata": {
        "id": "ibMKxbBK7uhi"
      },
      "source": [
        "##mlp wit normalize and pca"
      ]
    },
    {
      "cell_type": "code",
      "metadata": {
        "id": "T8zElTSypwCx",
        "colab": {
          "base_uri": "https://localhost:8080/"
        },
        "outputId": "6b915046-e95e-445a-cc5e-cb661efb40a6"
      },
      "source": [
        "import numpy as np # linear algebra\n",
        "import pandas as pd # data processing, CSV file I/O (e.g. pd.read_csv)\n",
        "from sklearn.metrics import accuracy_score, classification_report\n",
        "import pandas as pd\n",
        "import numpy as np\n",
        "from sklearn import datasets\n",
        "from sklearn.model_selection import train_test_split\n",
        "from sklearn import metrics\n",
        "from sklearn.ensemble import RandomForestClassifier\n",
        "from sklearn import preprocessing\n",
        "import pandas as pd\n",
        "# importing required libraries\n",
        "import numpy as np\n",
        "import matplotlib.pyplot as plt\n",
        "import pandas as pd\n",
        "import category_encoders as ce\n",
        "import seaborn as sns\n",
        "import matplotlib.pyplot as plt"
      ],
      "execution_count": null,
      "outputs": [
        {
          "output_type": "stream",
          "name": "stderr",
          "text": [
            "/usr/local/lib/python3.7/dist-packages/statsmodels/tools/_testing.py:19: FutureWarning: pandas.util.testing is deprecated. Use the functions in the public API at pandas.testing instead.\n",
            "  import pandas.util.testing as tm\n"
          ]
        }
      ]
    },
    {
      "cell_type": "code",
      "metadata": {
        "colab": {
          "base_uri": "https://localhost:8080/",
          "height": 226
        },
        "id": "ejG_4-J0qa2-",
        "outputId": "68b29531-ae48-45cb-ec70-17ceca95de10"
      },
      "source": [
        "df = pd.read_csv('/content/drive/MyDrive/aics/assinmen1/traindata.csv') \n",
        "df.head()"
      ],
      "execution_count": null,
      "outputs": [
        {
          "output_type": "execute_result",
          "data": {
            "text/html": [
              "<div>\n",
              "<style scoped>\n",
              "    .dataframe tbody tr th:only-of-type {\n",
              "        vertical-align: middle;\n",
              "    }\n",
              "\n",
              "    .dataframe tbody tr th {\n",
              "        vertical-align: top;\n",
              "    }\n",
              "\n",
              "    .dataframe thead th {\n",
              "        text-align: right;\n",
              "    }\n",
              "</style>\n",
              "<table border=\"1\" class=\"dataframe\">\n",
              "  <thead>\n",
              "    <tr style=\"text-align: right;\">\n",
              "      <th></th>\n",
              "      <th>ID</th>\n",
              "      <th>duration</th>\n",
              "      <th>protocol_type</th>\n",
              "      <th>service</th>\n",
              "      <th>flag</th>\n",
              "      <th>src_bytes</th>\n",
              "      <th>dst_bytes</th>\n",
              "      <th>land</th>\n",
              "      <th>wrong_fragment</th>\n",
              "      <th>urgent</th>\n",
              "      <th>hot</th>\n",
              "      <th>num_failed_logins</th>\n",
              "      <th>logged_in</th>\n",
              "      <th>num_compromised</th>\n",
              "      <th>root_shell</th>\n",
              "      <th>su_attempted</th>\n",
              "      <th>num_root</th>\n",
              "      <th>num_file_creations</th>\n",
              "      <th>num_shells</th>\n",
              "      <th>num_access_files</th>\n",
              "      <th>num_outbound_cmds</th>\n",
              "      <th>is_host_login</th>\n",
              "      <th>is_guest_login</th>\n",
              "      <th>count</th>\n",
              "      <th>srv_count</th>\n",
              "      <th>serror_rate</th>\n",
              "      <th>srv_serror_rate</th>\n",
              "      <th>rerror_rate</th>\n",
              "      <th>srv_rerror_rate</th>\n",
              "      <th>same_srv_rate</th>\n",
              "      <th>diff_srv_rate</th>\n",
              "      <th>srv_diff_host_rate</th>\n",
              "      <th>dst_host_count</th>\n",
              "      <th>dst_host_srv_count</th>\n",
              "      <th>dst_host_same_srv_rate</th>\n",
              "      <th>dst_host_diff_srv_rate</th>\n",
              "      <th>dst_host_same_src_port_rate</th>\n",
              "      <th>dst_host_srv_diff_host_rate</th>\n",
              "      <th>dst_host_serror_rate</th>\n",
              "      <th>dst_host_srv_serror_rate</th>\n",
              "      <th>dst_host_rerror_rate</th>\n",
              "      <th>dst_host_srv_rerror_rate</th>\n",
              "      <th>level</th>\n",
              "      <th>Class</th>\n",
              "    </tr>\n",
              "  </thead>\n",
              "  <tbody>\n",
              "    <tr>\n",
              "      <th>0</th>\n",
              "      <td>0</td>\n",
              "      <td>0</td>\n",
              "      <td>tcp</td>\n",
              "      <td>http</td>\n",
              "      <td>SF</td>\n",
              "      <td>295</td>\n",
              "      <td>2584</td>\n",
              "      <td>0</td>\n",
              "      <td>0</td>\n",
              "      <td>0</td>\n",
              "      <td>0</td>\n",
              "      <td>0</td>\n",
              "      <td>1</td>\n",
              "      <td>0</td>\n",
              "      <td>0</td>\n",
              "      <td>0</td>\n",
              "      <td>0</td>\n",
              "      <td>0</td>\n",
              "      <td>0</td>\n",
              "      <td>0</td>\n",
              "      <td>0</td>\n",
              "      <td>0</td>\n",
              "      <td>0</td>\n",
              "      <td>2</td>\n",
              "      <td>3</td>\n",
              "      <td>0.0</td>\n",
              "      <td>0.0</td>\n",
              "      <td>0.0</td>\n",
              "      <td>0.0</td>\n",
              "      <td>1.0</td>\n",
              "      <td>0.0</td>\n",
              "      <td>0.67</td>\n",
              "      <td>101</td>\n",
              "      <td>255</td>\n",
              "      <td>1.00</td>\n",
              "      <td>0.00</td>\n",
              "      <td>0.01</td>\n",
              "      <td>0.03</td>\n",
              "      <td>0.0</td>\n",
              "      <td>0.0</td>\n",
              "      <td>0.00</td>\n",
              "      <td>0.01</td>\n",
              "      <td>21</td>\n",
              "      <td>0</td>\n",
              "    </tr>\n",
              "    <tr>\n",
              "      <th>1</th>\n",
              "      <td>1</td>\n",
              "      <td>0</td>\n",
              "      <td>tcp</td>\n",
              "      <td>http</td>\n",
              "      <td>SF</td>\n",
              "      <td>312</td>\n",
              "      <td>839</td>\n",
              "      <td>0</td>\n",
              "      <td>0</td>\n",
              "      <td>0</td>\n",
              "      <td>0</td>\n",
              "      <td>0</td>\n",
              "      <td>1</td>\n",
              "      <td>0</td>\n",
              "      <td>0</td>\n",
              "      <td>0</td>\n",
              "      <td>0</td>\n",
              "      <td>0</td>\n",
              "      <td>0</td>\n",
              "      <td>0</td>\n",
              "      <td>0</td>\n",
              "      <td>0</td>\n",
              "      <td>0</td>\n",
              "      <td>5</td>\n",
              "      <td>7</td>\n",
              "      <td>0.0</td>\n",
              "      <td>0.0</td>\n",
              "      <td>0.0</td>\n",
              "      <td>0.0</td>\n",
              "      <td>1.0</td>\n",
              "      <td>0.0</td>\n",
              "      <td>0.29</td>\n",
              "      <td>223</td>\n",
              "      <td>255</td>\n",
              "      <td>1.00</td>\n",
              "      <td>0.00</td>\n",
              "      <td>0.00</td>\n",
              "      <td>0.02</td>\n",
              "      <td>0.0</td>\n",
              "      <td>0.0</td>\n",
              "      <td>0.01</td>\n",
              "      <td>0.01</td>\n",
              "      <td>21</td>\n",
              "      <td>0</td>\n",
              "    </tr>\n",
              "    <tr>\n",
              "      <th>2</th>\n",
              "      <td>2</td>\n",
              "      <td>0</td>\n",
              "      <td>tcp</td>\n",
              "      <td>ftp</td>\n",
              "      <td>SF</td>\n",
              "      <td>1225</td>\n",
              "      <td>2451</td>\n",
              "      <td>0</td>\n",
              "      <td>0</td>\n",
              "      <td>0</td>\n",
              "      <td>28</td>\n",
              "      <td>0</td>\n",
              "      <td>1</td>\n",
              "      <td>0</td>\n",
              "      <td>0</td>\n",
              "      <td>0</td>\n",
              "      <td>0</td>\n",
              "      <td>0</td>\n",
              "      <td>0</td>\n",
              "      <td>0</td>\n",
              "      <td>0</td>\n",
              "      <td>0</td>\n",
              "      <td>1</td>\n",
              "      <td>1</td>\n",
              "      <td>1</td>\n",
              "      <td>0.0</td>\n",
              "      <td>0.0</td>\n",
              "      <td>0.0</td>\n",
              "      <td>0.0</td>\n",
              "      <td>1.0</td>\n",
              "      <td>0.0</td>\n",
              "      <td>0.00</td>\n",
              "      <td>255</td>\n",
              "      <td>116</td>\n",
              "      <td>0.45</td>\n",
              "      <td>0.02</td>\n",
              "      <td>0.00</td>\n",
              "      <td>0.00</td>\n",
              "      <td>0.0</td>\n",
              "      <td>0.0</td>\n",
              "      <td>0.00</td>\n",
              "      <td>0.00</td>\n",
              "      <td>11</td>\n",
              "      <td>1</td>\n",
              "    </tr>\n",
              "    <tr>\n",
              "      <th>3</th>\n",
              "      <td>3</td>\n",
              "      <td>0</td>\n",
              "      <td>tcp</td>\n",
              "      <td>http</td>\n",
              "      <td>SF</td>\n",
              "      <td>293</td>\n",
              "      <td>296</td>\n",
              "      <td>0</td>\n",
              "      <td>0</td>\n",
              "      <td>0</td>\n",
              "      <td>0</td>\n",
              "      <td>0</td>\n",
              "      <td>1</td>\n",
              "      <td>0</td>\n",
              "      <td>0</td>\n",
              "      <td>0</td>\n",
              "      <td>0</td>\n",
              "      <td>0</td>\n",
              "      <td>0</td>\n",
              "      <td>0</td>\n",
              "      <td>0</td>\n",
              "      <td>0</td>\n",
              "      <td>0</td>\n",
              "      <td>3</td>\n",
              "      <td>4</td>\n",
              "      <td>0.0</td>\n",
              "      <td>0.0</td>\n",
              "      <td>0.0</td>\n",
              "      <td>0.0</td>\n",
              "      <td>1.0</td>\n",
              "      <td>0.0</td>\n",
              "      <td>0.50</td>\n",
              "      <td>216</td>\n",
              "      <td>255</td>\n",
              "      <td>1.00</td>\n",
              "      <td>0.00</td>\n",
              "      <td>0.00</td>\n",
              "      <td>0.02</td>\n",
              "      <td>0.0</td>\n",
              "      <td>0.0</td>\n",
              "      <td>0.00</td>\n",
              "      <td>0.02</td>\n",
              "      <td>21</td>\n",
              "      <td>0</td>\n",
              "    </tr>\n",
              "    <tr>\n",
              "      <th>4</th>\n",
              "      <td>4</td>\n",
              "      <td>0</td>\n",
              "      <td>tcp</td>\n",
              "      <td>X11</td>\n",
              "      <td>REJ</td>\n",
              "      <td>0</td>\n",
              "      <td>0</td>\n",
              "      <td>0</td>\n",
              "      <td>0</td>\n",
              "      <td>0</td>\n",
              "      <td>0</td>\n",
              "      <td>0</td>\n",
              "      <td>0</td>\n",
              "      <td>0</td>\n",
              "      <td>0</td>\n",
              "      <td>0</td>\n",
              "      <td>0</td>\n",
              "      <td>0</td>\n",
              "      <td>0</td>\n",
              "      <td>0</td>\n",
              "      <td>0</td>\n",
              "      <td>0</td>\n",
              "      <td>0</td>\n",
              "      <td>2</td>\n",
              "      <td>1</td>\n",
              "      <td>0.0</td>\n",
              "      <td>0.0</td>\n",
              "      <td>0.5</td>\n",
              "      <td>1.0</td>\n",
              "      <td>0.5</td>\n",
              "      <td>1.0</td>\n",
              "      <td>0.00</td>\n",
              "      <td>115</td>\n",
              "      <td>1</td>\n",
              "      <td>0.01</td>\n",
              "      <td>0.03</td>\n",
              "      <td>0.01</td>\n",
              "      <td>0.00</td>\n",
              "      <td>0.0</td>\n",
              "      <td>0.0</td>\n",
              "      <td>0.01</td>\n",
              "      <td>1.00</td>\n",
              "      <td>11</td>\n",
              "      <td>0</td>\n",
              "    </tr>\n",
              "  </tbody>\n",
              "</table>\n",
              "</div>"
            ],
            "text/plain": [
              "   ID  duration protocol_type  ... dst_host_srv_rerror_rate level  Class\n",
              "0   0         0           tcp  ...                     0.01    21      0\n",
              "1   1         0           tcp  ...                     0.01    21      0\n",
              "2   2         0           tcp  ...                     0.00    11      1\n",
              "3   3         0           tcp  ...                     0.02    21      0\n",
              "4   4         0           tcp  ...                     1.00    11      0\n",
              "\n",
              "[5 rows x 44 columns]"
            ]
          },
          "metadata": {},
          "execution_count": 4
        }
      ]
    },
    {
      "cell_type": "code",
      "metadata": {
        "colab": {
          "base_uri": "https://localhost:8080/"
        },
        "id": "0De7ZMjBf7FU",
        "outputId": "50e55b0c-ac04-467e-9d6b-7e3d5102f5af"
      },
      "source": [
        "df['Class'].unique()"
      ],
      "execution_count": null,
      "outputs": [
        {
          "output_type": "execute_result",
          "data": {
            "text/plain": [
              "array([0, 1])"
            ]
          },
          "metadata": {},
          "execution_count": 5
        }
      ]
    },
    {
      "cell_type": "code",
      "metadata": {
        "colab": {
          "base_uri": "https://localhost:8080/"
        },
        "id": "UCHtIDQ9f9DZ",
        "outputId": "f3284815-d3f0-4017-ea74-107dc465f318"
      },
      "source": [
        "df['Class'].value_counts()"
      ],
      "execution_count": null,
      "outputs": [
        {
          "output_type": "execute_result",
          "data": {
            "text/plain": [
              "0    12001\n",
              "1    11001\n",
              "Name: Class, dtype: int64"
            ]
          },
          "metadata": {},
          "execution_count": 6
        }
      ]
    },
    {
      "cell_type": "code",
      "metadata": {
        "colab": {
          "base_uri": "https://localhost:8080/",
          "height": 296
        },
        "id": "qwYDTmmMgDVs",
        "outputId": "bb823055-8322-4693-ef36-e0ef9e9e9ece"
      },
      "source": [
        "sns.countplot(data=df, x='Class')"
      ],
      "execution_count": null,
      "outputs": [
        {
          "output_type": "execute_result",
          "data": {
            "text/plain": [
              "<matplotlib.axes._subplots.AxesSubplot at 0x7f317536d590>"
            ]
          },
          "metadata": {},
          "execution_count": 7
        },
        {
          "output_type": "display_data",
          "data": {
            "image/png": "[encoded data removed]",
            "text/plain": [
              "<Figure size 432x288 with 1 Axes>"
            ]
          },
          "metadata": {
            "needs_background": "light"
          }
        }
      ]
    },
    {
      "cell_type": "code",
      "metadata": {
        "colab": {
          "base_uri": "https://localhost:8080/"
        },
        "id": "I9eawHx8gVHU",
        "outputId": "a94eac6c-20f7-4688-bda2-9c231fb4b49b"
      },
      "source": [
        "df.corr()['Class'].sort_values(ascending=False)"
      ],
      "execution_count": null,
      "outputs": [
        {
          "output_type": "execute_result",
          "data": {
            "text/plain": [
              "Class                          1.000000\n",
              "dst_host_srv_serror_rate       0.649963\n",
              "dst_host_serror_rate           0.647599\n",
              "serror_rate                    0.646637\n",
              "srv_serror_rate                0.644097\n",
              "count                          0.576296\n",
              "dst_host_count                 0.368795\n",
              "dst_host_srv_rerror_rate       0.258675\n",
              "rerror_rate                    0.258556\n",
              "dst_host_rerror_rate           0.258102\n",
              "srv_rerror_rate                0.257691\n",
              "dst_host_diff_srv_rate         0.236590\n",
              "diff_srv_rate                  0.192442\n",
              "wrong_fragment                 0.096417\n",
              "dst_host_same_src_port_rate    0.090074\n",
              "dst_host_srv_diff_host_rate    0.063555\n",
              "duration                       0.049368\n",
              "urgent                         0.006887\n",
              "src_bytes                      0.005829\n",
              "srv_count                      0.002368\n",
              "ID                             0.002328\n",
              "num_failed_logins              0.002050\n",
              "land                           0.000406\n",
              "dst_bytes                     -0.010218\n",
              "hot                           -0.012829\n",
              "num_shells                    -0.017859\n",
              "num_compromised               -0.019031\n",
              "root_shell                    -0.019513\n",
              "num_file_creations            -0.019836\n",
              "num_root                      -0.020217\n",
              "su_attempted                  -0.025930\n",
              "num_access_files              -0.037717\n",
              "is_guest_login                -0.038830\n",
              "srv_diff_host_rate            -0.122172\n",
              "level                         -0.370836\n",
              "logged_in                     -0.691888\n",
              "dst_host_same_srv_rate        -0.693619\n",
              "dst_host_srv_count            -0.720436\n",
              "same_srv_rate                 -0.746569\n",
              "num_outbound_cmds                   NaN\n",
              "is_host_login                       NaN\n",
              "Name: Class, dtype: float64"
            ]
          },
          "metadata": {},
          "execution_count": 8
        }
      ]
    },
    {
      "cell_type": "code",
      "metadata": {
        "id": "wlWZuOsJghZU"
      },
      "source": [
        "#plt.figure(figsize=(12,8), dpi=150)\n",
        "#sns.heatmap(df.corr(), annot=True)"
      ],
      "execution_count": null,
      "outputs": []
    },
    {
      "cell_type": "markdown",
      "metadata": {
        "id": "W1cLA6qMiEXQ"
      },
      "source": [
        "////////////////////////////////////////////////////////////////////////////"
      ]
    },
    {
      "cell_type": "markdown",
      "metadata": {
        "id": "BwiZA7eph5bc"
      },
      "source": [
        "#feature selection with corrolation"
      ]
    },
    {
      "cell_type": "code",
      "metadata": {
        "id": "yc5dm_z7h2zC"
      },
      "source": [
        "import numpy as np\n",
        "import pandas as pd\n",
        "import seaborn as sns\n",
        "import matplotlib.pyplot as plt\n",
        "from sklearn.preprocessing import LabelEncoder, OneHotEncoder\n",
        "import warnings\n",
        "warnings.filterwarnings(\"ignore\")\n",
        "from sklearn.model_selection import train_test_split\n",
        "from sklearn.svm import SVC\n",
        "from sklearn.metrics import confusion_matrix\n",
        "\n",
        "np.random.seed(123)"
      ],
      "execution_count": null,
      "outputs": []
    },
    {
      "cell_type": "code",
      "metadata": {
        "colab": {
          "base_uri": "https://localhost:8080/",
          "height": 224
        },
        "id": "uxk5KINhiHtI",
        "outputId": "cf0c6d76-294a-45af-abcf-32de2ea8b007"
      },
      "source": [
        "corr = df.corr()\n",
        "corr.head()"
      ],
      "execution_count": null,
      "outputs": [
        {
          "output_type": "execute_result",
          "data": {
            "text/html": [
              "<div>\n",
              "<style scoped>\n",
              "    .dataframe tbody tr th:only-of-type {\n",
              "        vertical-align: middle;\n",
              "    }\n",
              "\n",
              "    .dataframe tbody tr th {\n",
              "        vertical-align: top;\n",
              "    }\n",
              "\n",
              "    .dataframe thead th {\n",
              "        text-align: right;\n",
              "    }\n",
              "</style>\n",
              "<table border=\"1\" class=\"dataframe\">\n",
              "  <thead>\n",
              "    <tr style=\"text-align: right;\">\n",
              "      <th></th>\n",
              "      <th>ID</th>\n",
              "      <th>duration</th>\n",
              "      <th>src_bytes</th>\n",
              "      <th>dst_bytes</th>\n",
              "      <th>land</th>\n",
              "      <th>wrong_fragment</th>\n",
              "      <th>urgent</th>\n",
              "      <th>hot</th>\n",
              "      <th>num_failed_logins</th>\n",
              "      <th>logged_in</th>\n",
              "      <th>num_compromised</th>\n",
              "      <th>root_shell</th>\n",
              "      <th>su_attempted</th>\n",
              "      <th>num_root</th>\n",
              "      <th>num_file_creations</th>\n",
              "      <th>num_shells</th>\n",
              "      <th>num_access_files</th>\n",
              "      <th>num_outbound_cmds</th>\n",
              "      <th>is_host_login</th>\n",
              "      <th>is_guest_login</th>\n",
              "      <th>count</th>\n",
              "      <th>srv_count</th>\n",
              "      <th>serror_rate</th>\n",
              "      <th>srv_serror_rate</th>\n",
              "      <th>rerror_rate</th>\n",
              "      <th>srv_rerror_rate</th>\n",
              "      <th>same_srv_rate</th>\n",
              "      <th>diff_srv_rate</th>\n",
              "      <th>srv_diff_host_rate</th>\n",
              "      <th>dst_host_count</th>\n",
              "      <th>dst_host_srv_count</th>\n",
              "      <th>dst_host_same_srv_rate</th>\n",
              "      <th>dst_host_diff_srv_rate</th>\n",
              "      <th>dst_host_same_src_port_rate</th>\n",
              "      <th>dst_host_srv_diff_host_rate</th>\n",
              "      <th>dst_host_serror_rate</th>\n",
              "      <th>dst_host_srv_serror_rate</th>\n",
              "      <th>dst_host_rerror_rate</th>\n",
              "      <th>dst_host_srv_rerror_rate</th>\n",
              "      <th>level</th>\n",
              "      <th>Class</th>\n",
              "    </tr>\n",
              "  </thead>\n",
              "  <tbody>\n",
              "    <tr>\n",
              "      <th>ID</th>\n",
              "      <td>1.000000</td>\n",
              "      <td>0.007389</td>\n",
              "      <td>0.005243</td>\n",
              "      <td>-0.006789</td>\n",
              "      <td>-0.001609</td>\n",
              "      <td>-0.006230</td>\n",
              "      <td>0.007798</td>\n",
              "      <td>-0.003133</td>\n",
              "      <td>0.014354</td>\n",
              "      <td>-0.002099</td>\n",
              "      <td>-0.004341</td>\n",
              "      <td>0.003294</td>\n",
              "      <td>-0.004647</td>\n",
              "      <td>-0.004050</td>\n",
              "      <td>-0.000504</td>\n",
              "      <td>-0.006458</td>\n",
              "      <td>-0.006990</td>\n",
              "      <td>NaN</td>\n",
              "      <td>NaN</td>\n",
              "      <td>-0.006906</td>\n",
              "      <td>0.000265</td>\n",
              "      <td>-0.000602</td>\n",
              "      <td>0.004464</td>\n",
              "      <td>0.004424</td>\n",
              "      <td>0.000406</td>\n",
              "      <td>0.001034</td>\n",
              "      <td>-0.003087</td>\n",
              "      <td>-0.007818</td>\n",
              "      <td>-0.002237</td>\n",
              "      <td>-0.001745</td>\n",
              "      <td>0.000221</td>\n",
              "      <td>-0.000965</td>\n",
              "      <td>-0.005386</td>\n",
              "      <td>0.006612</td>\n",
              "      <td>0.000721</td>\n",
              "      <td>0.004693</td>\n",
              "      <td>0.004989</td>\n",
              "      <td>-0.004455</td>\n",
              "      <td>-0.001690</td>\n",
              "      <td>0.004852</td>\n",
              "      <td>0.002328</td>\n",
              "    </tr>\n",
              "    <tr>\n",
              "      <th>duration</th>\n",
              "      <td>0.007389</td>\n",
              "      <td>1.000000</td>\n",
              "      <td>0.088331</td>\n",
              "      <td>0.013308</td>\n",
              "      <td>-0.001062</td>\n",
              "      <td>-0.010514</td>\n",
              "      <td>-0.000511</td>\n",
              "      <td>0.004456</td>\n",
              "      <td>0.004990</td>\n",
              "      <td>-0.062312</td>\n",
              "      <td>0.095046</td>\n",
              "      <td>0.055417</td>\n",
              "      <td>0.092524</td>\n",
              "      <td>0.094214</td>\n",
              "      <td>0.091354</td>\n",
              "      <td>-0.002124</td>\n",
              "      <td>0.075553</td>\n",
              "      <td>NaN</td>\n",
              "      <td>NaN</td>\n",
              "      <td>-0.003928</td>\n",
              "      <td>-0.083171</td>\n",
              "      <td>-0.040672</td>\n",
              "      <td>-0.074079</td>\n",
              "      <td>-0.073535</td>\n",
              "      <td>0.211239</td>\n",
              "      <td>0.210213</td>\n",
              "      <td>0.077576</td>\n",
              "      <td>-0.012714</td>\n",
              "      <td>-0.041082</td>\n",
              "      <td>0.054042</td>\n",
              "      <td>-0.111151</td>\n",
              "      <td>-0.117807</td>\n",
              "      <td>0.259286</td>\n",
              "      <td>0.240562</td>\n",
              "      <td>-0.025089</td>\n",
              "      <td>-0.068168</td>\n",
              "      <td>-0.067890</td>\n",
              "      <td>0.187384</td>\n",
              "      <td>0.209588</td>\n",
              "      <td>-0.155431</td>\n",
              "      <td>0.049368</td>\n",
              "    </tr>\n",
              "    <tr>\n",
              "      <th>src_bytes</th>\n",
              "      <td>0.005243</td>\n",
              "      <td>0.088331</td>\n",
              "      <td>1.000000</td>\n",
              "      <td>0.003633</td>\n",
              "      <td>-0.000096</td>\n",
              "      <td>-0.000943</td>\n",
              "      <td>-0.000066</td>\n",
              "      <td>0.000879</td>\n",
              "      <td>-0.000258</td>\n",
              "      <td>-0.002260</td>\n",
              "      <td>-0.000198</td>\n",
              "      <td>-0.000387</td>\n",
              "      <td>-0.000267</td>\n",
              "      <td>-0.000210</td>\n",
              "      <td>-0.000230</td>\n",
              "      <td>-0.000158</td>\n",
              "      <td>-0.000415</td>\n",
              "      <td>NaN</td>\n",
              "      <td>NaN</td>\n",
              "      <td>-0.000950</td>\n",
              "      <td>-0.007532</td>\n",
              "      <td>-0.003688</td>\n",
              "      <td>-0.006538</td>\n",
              "      <td>-0.006474</td>\n",
              "      <td>0.016745</td>\n",
              "      <td>0.016532</td>\n",
              "      <td>0.007985</td>\n",
              "      <td>-0.003325</td>\n",
              "      <td>-0.003214</td>\n",
              "      <td>-0.010150</td>\n",
              "      <td>-0.008619</td>\n",
              "      <td>-0.006956</td>\n",
              "      <td>0.000941</td>\n",
              "      <td>0.002093</td>\n",
              "      <td>-0.001329</td>\n",
              "      <td>-0.006577</td>\n",
              "      <td>-0.006457</td>\n",
              "      <td>-0.002164</td>\n",
              "      <td>0.006505</td>\n",
              "      <td>-0.033698</td>\n",
              "      <td>0.005829</td>\n",
              "    </tr>\n",
              "    <tr>\n",
              "      <th>dst_bytes</th>\n",
              "      <td>-0.006789</td>\n",
              "      <td>0.013308</td>\n",
              "      <td>0.003633</td>\n",
              "      <td>1.000000</td>\n",
              "      <td>-0.000362</td>\n",
              "      <td>-0.003588</td>\n",
              "      <td>0.000341</td>\n",
              "      <td>0.002278</td>\n",
              "      <td>0.004401</td>\n",
              "      <td>0.010959</td>\n",
              "      <td>0.032127</td>\n",
              "      <td>0.020948</td>\n",
              "      <td>0.031127</td>\n",
              "      <td>0.031823</td>\n",
              "      <td>0.007976</td>\n",
              "      <td>-0.000725</td>\n",
              "      <td>0.024751</td>\n",
              "      <td>NaN</td>\n",
              "      <td>NaN</td>\n",
              "      <td>-0.001229</td>\n",
              "      <td>-0.027938</td>\n",
              "      <td>-0.012424</td>\n",
              "      <td>-0.022563</td>\n",
              "      <td>-0.022608</td>\n",
              "      <td>-0.013852</td>\n",
              "      <td>-0.013681</td>\n",
              "      <td>0.030274</td>\n",
              "      <td>-0.012325</td>\n",
              "      <td>-0.007478</td>\n",
              "      <td>-0.031920</td>\n",
              "      <td>-0.000996</td>\n",
              "      <td>0.023659</td>\n",
              "      <td>-0.013036</td>\n",
              "      <td>0.026058</td>\n",
              "      <td>-0.005917</td>\n",
              "      <td>-0.015361</td>\n",
              "      <td>-0.014300</td>\n",
              "      <td>-0.014093</td>\n",
              "      <td>-0.012857</td>\n",
              "      <td>-0.068322</td>\n",
              "      <td>-0.010218</td>\n",
              "    </tr>\n",
              "    <tr>\n",
              "      <th>land</th>\n",
              "      <td>-0.001609</td>\n",
              "      <td>-0.001062</td>\n",
              "      <td>-0.000096</td>\n",
              "      <td>-0.000362</td>\n",
              "      <td>1.000000</td>\n",
              "      <td>-0.000861</td>\n",
              "      <td>-0.000061</td>\n",
              "      <td>-0.000857</td>\n",
              "      <td>-0.000237</td>\n",
              "      <td>-0.007402</td>\n",
              "      <td>-0.000200</td>\n",
              "      <td>-0.000364</td>\n",
              "      <td>-0.000253</td>\n",
              "      <td>-0.000199</td>\n",
              "      <td>-0.000265</td>\n",
              "      <td>-0.000174</td>\n",
              "      <td>-0.000393</td>\n",
              "      <td>NaN</td>\n",
              "      <td>NaN</td>\n",
              "      <td>-0.000895</td>\n",
              "      <td>-0.006892</td>\n",
              "      <td>-0.003364</td>\n",
              "      <td>0.014608</td>\n",
              "      <td>0.014647</td>\n",
              "      <td>-0.003495</td>\n",
              "      <td>-0.003501</td>\n",
              "      <td>0.007342</td>\n",
              "      <td>-0.003295</td>\n",
              "      <td>0.014682</td>\n",
              "      <td>-0.017264</td>\n",
              "      <td>-0.008999</td>\n",
              "      <td>0.010138</td>\n",
              "      <td>-0.004149</td>\n",
              "      <td>0.025677</td>\n",
              "      <td>0.055126</td>\n",
              "      <td>0.014686</td>\n",
              "      <td>0.005657</td>\n",
              "      <td>-0.003619</td>\n",
              "      <td>-0.003510</td>\n",
              "      <td>-0.047857</td>\n",
              "      <td>0.000406</td>\n",
              "    </tr>\n",
              "  </tbody>\n",
              "</table>\n",
              "</div>"
            ],
            "text/plain": [
              "                 ID  duration  ...     level     Class\n",
              "ID         1.000000  0.007389  ...  0.004852  0.002328\n",
              "duration   0.007389  1.000000  ... -0.155431  0.049368\n",
              "src_bytes  0.005243  0.088331  ... -0.033698  0.005829\n",
              "dst_bytes -0.006789  0.013308  ... -0.068322 -0.010218\n",
              "land      -0.001609 -0.001062  ... -0.047857  0.000406\n",
              "\n",
              "[5 rows x 41 columns]"
            ]
          },
          "metadata": {},
          "execution_count": 11
        }
      ]
    },
    {
      "cell_type": "code",
      "metadata": {
        "colab": {
          "base_uri": "https://localhost:8080/",
          "height": 413
        },
        "id": "bXkRzVaHigus",
        "outputId": "4702eedd-f085-46fd-d8b0-a29a3660a066"
      },
      "source": [
        "sns.heatmap(corr)"
      ],
      "execution_count": null,
      "outputs": [
        {
          "output_type": "execute_result",
          "data": {
            "text/plain": [
              "<matplotlib.axes._subplots.AxesSubplot at 0x7fabe2e79490>"
            ]
          },
          "metadata": {},
          "execution_count": 19
        },
        {
          "output_type": "display_data",
          "data": {
            "image/png": "[encoded data removed]",
            "text/plain": [
              "<Figure size 432x288 with 2 Axes>"
            ]
          },
          "metadata": {
            "needs_background": "light"
          }
        }
      ]
    },
    {
      "cell_type": "markdown",
      "metadata": {
        "id": "wouPVjiArztj"
      },
      "source": [
        ",,,,,,,,"
      ]
    },
    {
      "cell_type": "code",
      "metadata": {
        "id": "OiXVKm9Xqd6F"
      },
      "source": [
        "X = df.drop(['Class'], axis=1)\n",
        "\n",
        "\n",
        "\n",
        "# encode categorical variables with ordinal encoding\n",
        "\n",
        "encoder = ce.OrdinalEncoder(cols=['ID', 'duration', 'protocol_type', 'service', 'flag', 'src_bytes'])\n",
        "\n",
        "\n",
        "X= encoder.fit_transform(X)\n",
        "#housing = pd.read_csv(\"/content/sample_data/california_housing_train.csv\")\n",
        "scaler = preprocessing.MinMaxScaler()\n",
        "names =X.columns\n",
        "d = scaler.fit_transform(X)\n",
        "X = pd.DataFrame(d, columns=names)\n",
        "X.head()\n",
        "\n",
        "\n",
        "\n",
        "\n",
        "y = df['Class']"
      ],
      "execution_count": null,
      "outputs": []
    },
    {
      "cell_type": "code",
      "metadata": {
        "id": "i2eyK3Qhxj5X"
      },
      "source": [
        "# Splitting the X and Y into the\n",
        "# Training set and Testing set\n",
        "from sklearn.model_selection import train_test_split\n",
        "\n",
        "X_train, X_test, y_train, y_test = train_test_split(X, y, test_size = 0.2, random_state = 0)\n"
      ],
      "execution_count": null,
      "outputs": []
    },
    {
      "cell_type": "code",
      "metadata": {
        "colab": {
          "base_uri": "https://localhost:8080/",
          "height": 996
        },
        "id": "PCz-nWVjrzIV",
        "outputId": "1b1de5a8-3967-46b0-9f5f-d050355a7132"
      },
      "source": [
        "# example of correlation feature selection for numerical data\n",
        "from sklearn.datasets import make_regression\n",
        "from sklearn.model_selection import train_test_split\n",
        "from sklearn.feature_selection import SelectKBest\n",
        "from sklearn.feature_selection import f_regression\n",
        "from matplotlib import pyplot\n",
        " \n",
        "# feature selection\n",
        "def select_features(X_train, y_train, X_test):\n",
        "\t# configure to select all features\n",
        "\tfs = SelectKBest(score_func=f_regression, k='all')\n",
        "\t# learn relationship from training data\n",
        "\tfs.fit(X_train, y_train)\n",
        "\t# transform train input data\n",
        "\tX_train_fs = fs.transform(X_train)\n",
        "\t# transform test input data\n",
        "\tX_test_fs = fs.transform(X_test)\n",
        "\treturn X_train_fs, X_test_fs, fs\n",
        " \n",
        "# load the dataset\n",
        "#X, y = make_regression(n_samples=1000, n_features=100, n_informative=10, noise=0.1, random_state=1)\n",
        "# split into train and test sets\n",
        "#X_train, X_test, y_train, y_test = train_test_split(X, y, test_size=0.33, random_state=1)\n",
        "# feature selection\n",
        "X_train_fs, X_test_fs, fs = select_features(X_train, y_train, X_test)\n",
        "# what are scores for the features\n",
        "for i in range(len(fs.scores_)):\n",
        "\tprint('Feature %d: %f' % (i, fs.scores_[i]))\n",
        "# plot the scores\n",
        "pyplot.bar([i for i in range(len(fs.scores_))], fs.scores_)\n",
        "pyplot.show()"
      ],
      "execution_count": null,
      "outputs": [
        {
          "output_type": "stream",
          "name": "stdout",
          "text": [
            "Feature 0: 0.158278\n",
            "Feature 1: 71.361139\n",
            "Feature 2: 36.318040\n",
            "Feature 3: 3940.429360\n",
            "Feature 4: 12412.077730\n",
            "Feature 5: 4412.541973\n",
            "Feature 6: 4.040334\n",
            "Feature 7: 1.095076\n",
            "Feature 8: 167.565352\n",
            "Feature 9: 1.095076\n",
            "Feature 10: 2.636786\n",
            "Feature 11: 0.085269\n",
            "Feature 12: 16917.331116\n",
            "Feature 13: 7.249167\n",
            "Feature 14: 6.482113\n",
            "Feature 15: 12.700067\n",
            "Feature 16: 7.900748\n",
            "Feature 17: 9.528476\n",
            "Feature 18: 6.396246\n",
            "Feature 19: 28.920664\n",
            "Feature 20: nan\n",
            "Feature 21: nan\n",
            "Feature 22: 24.156159\n",
            "Feature 23: 9175.138550\n",
            "Feature 24: 0.665296\n",
            "Feature 25: 13313.454259\n",
            "Feature 26: 13148.573695\n",
            "Feature 27: 1322.241916\n",
            "Feature 28: 1319.826234\n",
            "Feature 29: 22938.933969\n",
            "Feature 30: 726.762497\n",
            "Feature 31: 265.188902\n",
            "Feature 32: 2855.214171\n",
            "Feature 33: 20001.240656\n",
            "Feature 34: 17286.466439\n",
            "Feature 35: 1133.474727\n",
            "Feature 36: 155.630996\n",
            "Feature 37: 78.036808\n",
            "Feature 38: 13289.740237\n",
            "Feature 39: 13517.265643\n",
            "Feature 40: 1312.243104\n",
            "Feature 41: 1325.845923\n",
            "Feature 42: 2973.139719\n"
          ]
        },
        {
          "output_type": "display_data",
          "data": {
            "image/png": "[encoded data removed]",
            "text/plain": [
              "<Figure size 432x288 with 1 Axes>"
            ]
          },
          "metadata": {
            "needs_background": "light"
          }
        }
      ]
    },
    {
      "cell_type": "code",
      "metadata": {
        "id": "mRx8RM3TJOJc"
      },
      "source": [
        "from sklearn.pipeline import Pipeline\n",
        "from sklearn.svm import SVC\n",
        "from sklearn.feature_selection import SelectFromModel\n",
        "from sklearn.svm import LinearSVC"
      ],
      "execution_count": null,
      "outputs": []
    },
    {
      "cell_type": "markdown",
      "metadata": {
        "id": "R3YvL-Nydb20"
      },
      "source": [
        "##featureselection correlation"
      ]
    },
    {
      "cell_type": "code",
      "metadata": {
        "id": "67x-R5wkryQ5"
      },
      "source": [
        "def correlation(dataset, threshold):\n",
        "    col_corr = set()  # Set of all the names of correlated columns\n",
        "    corr_matrix = dataset.corr()\n",
        "    for i in range(len(corr_matrix.columns)):\n",
        "        for j in range(i):\n",
        "            if abs(corr_matrix.iloc[i, j]) > threshold: # we are interested in absolute coeff value\n",
        "                colname = corr_matrix.columns[i]  # getting the name of column\n",
        "                col_corr.add(colname)\n",
        "    return col_corr"
      ],
      "execution_count": null,
      "outputs": []
    },
    {
      "cell_type": "code",
      "metadata": {
        "colab": {
          "base_uri": "https://localhost:8080/"
        },
        "id": "tYA67d7fQEiI",
        "outputId": "a4aaf7db-ac23-4d4f-95f4-b99bdfa61787"
      },
      "source": [
        "#corr_features = correlation(X_train, 0.7)\n",
        "#len(set(corr_features))"
      ],
      "execution_count": null,
      "outputs": [
        {
          "output_type": "execute_result",
          "data": {
            "text/plain": [
              "12"
            ]
          },
          "metadata": {},
          "execution_count": 17
        }
      ]
    },
    {
      "cell_type": "code",
      "metadata": {
        "colab": {
          "base_uri": "https://localhost:8080/"
        },
        "id": "2La0TJFX4ej7",
        "outputId": "e26484fa-16ea-44c2-e179-d42338942337"
      },
      "source": [
        "corr_features = correlation(X, 0.7)\n",
        "len(set(corr_features))"
      ],
      "execution_count": null,
      "outputs": [
        {
          "output_type": "execute_result",
          "data": {
            "text/plain": [
              "13"
            ]
          },
          "metadata": {},
          "execution_count": 9
        }
      ]
    },
    {
      "cell_type": "code",
      "metadata": {
        "colab": {
          "base_uri": "https://localhost:8080/"
        },
        "id": "2fEuBGuRQPRV",
        "outputId": "cc4c3fe5-f8d9-42ce-b409-c542a5f7ba15"
      },
      "source": [
        "corr_features"
      ],
      "execution_count": null,
      "outputs": [
        {
          "output_type": "execute_result",
          "data": {
            "text/plain": [
              "{'dst_host_rerror_rate',\n",
              " 'dst_host_same_srv_rate',\n",
              " 'dst_host_serror_rate',\n",
              " 'dst_host_srv_count',\n",
              " 'dst_host_srv_rerror_rate',\n",
              " 'dst_host_srv_serror_rate',\n",
              " 'is_guest_login',\n",
              " 'num_access_files',\n",
              " 'num_root',\n",
              " 'same_srv_rate',\n",
              " 'srv_rerror_rate',\n",
              " 'srv_serror_rate',\n",
              " 'su_attempted'}"
            ]
          },
          "metadata": {},
          "execution_count": 29
        }
      ]
    },
    {
      "cell_type": "code",
      "metadata": {
        "id": "gGsyXOt25anW"
      },
      "source": [
        "X=X.drop(corr_features,axis=1)"
      ],
      "execution_count": null,
      "outputs": []
    },
    {
      "cell_type": "code",
      "metadata": {
        "id": "BnPGVWBsQV04"
      },
      "source": [
        "#X_train.drop(corr_features,axis=1)\n",
        "#X_test.drop(corr_features,axis=1)"
      ],
      "execution_count": null,
      "outputs": []
    },
    {
      "cell_type": "code",
      "metadata": {
        "id": "ZtrcqxylRVgI",
        "colab": {
          "base_uri": "https://localhost:8080/"
        },
        "outputId": "261dbe0c-b54a-46fe-bade-1db6c8af383b"
      },
      "source": [
        "X.shape"
      ],
      "execution_count": null,
      "outputs": [
        {
          "output_type": "execute_result",
          "data": {
            "text/plain": [
              "(23002, 30)"
            ]
          },
          "metadata": {},
          "execution_count": 11
        }
      ]
    },
    {
      "cell_type": "markdown",
      "metadata": {
        "id": "L0Ir2XnoROHV"
      },
      "source": [
        "https://github.com/krishnaik06/Complete-Feature-Selection/blob/master/2-Feature%20Selection-%20Correlation.ipynb"
      ]
    },
    {
      "cell_type": "markdown",
      "metadata": {
        "id": "Mq7UCpq2iBbd"
      },
      "source": [
        "//////////////////////////////////////////////////////////////////////////////////////////////////////////\n",
        "https://www.datacamp.com/community/tutorials/feature-selection-python\n",
        "\n",
        "https://www.kaggle.com/bbloggsbott/feature-selection-correlation-and-p-value"
      ]
    },
    {
      "cell_type": "code",
      "metadata": {
        "id": "S5D3Cfzjx-ce"
      },
      "source": [
        "# Applying PCA function on training\n",
        "# and testing set of X component\n",
        "\"\"\"\n",
        "from sklearn.decomposition import PCA\n",
        " \n",
        "pca = PCA(n_components = 2)\n",
        " \n",
        "X_train = pca.fit_transform(X_train)\n",
        "X_test = pca.transform(X_test)\n",
        " \n",
        "explained_variance = pca.explained_variance_ratio_\n",
        "\n",
        "\n",
        "\n",
        "\"\"\""
      ],
      "execution_count": null,
      "outputs": []
    },
    {
      "cell_type": "code",
      "metadata": {
        "id": "RlfmAEacz-FX"
      },
      "source": [
        "from sklearn.neural_network import MLPClassifier\n",
        "from sklearn.datasets import make_classification\n",
        "from sklearn.model_selection import train_test_split"
      ],
      "execution_count": null,
      "outputs": []
    },
    {
      "cell_type": "code",
      "metadata": {
        "id": "30zFFi3YhnrY"
      },
      "source": [
        "#clf =MLPClassifier(hidden_layer_sizes=(50, ), max_iter=150, alpha=1e-4,solver='sgd', tol=1e-4, random_state=3,learning_rate_init=.1)"
      ],
      "execution_count": null,
      "outputs": []
    },
    {
      "cell_type": "code",
      "metadata": {
        "colab": {
          "base_uri": "https://localhost:8080/"
        },
        "id": "tZqfBBSTy_d-",
        "outputId": "a3c8be5f-e36c-438a-faf2-daf379b443a4"
      },
      "source": [
        "#clf = MLPClassifier(random_state=9, max_iter=300)50 /150 /2\n",
        "\n",
        "clf =MLPClassifier(solver='lbfgs', hidden_layer_sizes=50,max_iter=150, shuffle=True, random_state=2,activation='logistic', alpha=1e-5)\n",
        "\n",
        "clf.fit(X, y)\n",
        "\n",
        "\n",
        "\n",
        "\n"
      ],
      "execution_count": null,
      "outputs": [
        {
          "output_type": "stream",
          "name": "stderr",
          "text": [
            "/usr/local/lib/python3.7/dist-packages/sklearn/neural_network/_multilayer_perceptron.py:470: ConvergenceWarning: lbfgs failed to converge (status=1):\n",
            "STOP: TOTAL NO. of ITERATIONS REACHED LIMIT.\n",
            "\n",
            "Increase the number of iterations (max_iter) or scale the data as shown in:\n",
            "    https://scikit-learn.org/stable/modules/preprocessing.html\n",
            "  self.n_iter_ = _check_optimize_result(\"lbfgs\", opt_res, self.max_iter)\n"
          ]
        },
        {
          "output_type": "execute_result",
          "data": {
            "text/plain": [
              "MLPClassifier(activation='logistic', alpha=1e-05, batch_size='auto', beta_1=0.9,\n",
              "              beta_2=0.999, early_stopping=False, epsilon=1e-08,\n",
              "              hidden_layer_sizes=50, learning_rate='constant',\n",
              "              learning_rate_init=0.001, max_fun=15000, max_iter=150,\n",
              "              momentum=0.9, n_iter_no_change=10, nesterovs_momentum=True,\n",
              "              power_t=0.5, random_state=2, shuffle=True, solver='lbfgs',\n",
              "              tol=0.0001, validation_fraction=0.1, verbose=False,\n",
              "              warm_start=False)"
            ]
          },
          "metadata": {},
          "execution_count": 13
        }
      ]
    },
    {
      "cell_type": "code",
      "metadata": {
        "colab": {
          "base_uri": "https://localhost:8080/"
        },
        "id": "_Ba6a13Jd74L",
        "outputId": "fc208a3c-843a-4872-ea51-255140af1273"
      },
      "source": [
        "\"\"\"\n",
        "clf = MLPClassifier(random_state=9, max_iter=1000)\n",
        "\n",
        "clf.fit(X_train, y_train)\n",
        "\n",
        "\"\"\""
      ],
      "execution_count": null,
      "outputs": [
        {
          "output_type": "execute_result",
          "data": {
            "text/plain": [
              "MLPClassifier(activation='relu', alpha=0.0001, batch_size='auto', beta_1=0.9,\n",
              "              beta_2=0.999, early_stopping=False, epsilon=1e-08,\n",
              "              hidden_layer_sizes=(100,), learning_rate='constant',\n",
              "              learning_rate_init=0.001, max_fun=15000, max_iter=1000,\n",
              "              momentum=0.9, n_iter_no_change=10, nesterovs_momentum=True,\n",
              "              power_t=0.5, random_state=9, shuffle=True, solver='adam',\n",
              "              tol=0.0001, validation_fraction=0.1, verbose=False,\n",
              "              warm_start=False)"
            ]
          },
          "metadata": {},
          "execution_count": 92
        }
      ]
    },
    {
      "cell_type": "code",
      "metadata": {
        "id": "0Z9bxZsI0UrZ"
      },
      "source": [
        "#y_pred=clf.predict(X_test)"
      ],
      "execution_count": null,
      "outputs": []
    },
    {
      "cell_type": "code",
      "metadata": {
        "colab": {
          "base_uri": "https://localhost:8080/",
          "height": 52
        },
        "id": "zs3JQkUP0iXf",
        "outputId": "0b2376e1-643a-4351-fe7f-a06a2e009784"
      },
      "source": [
        "# Check accuracy score \n",
        "\n",
        "\n",
        "\n",
        "\n",
        "\n",
        "\"\"\"\n",
        "from sklearn.metrics import accuracy_score\n",
        "\n",
        "print('Model accuracy score with 10 decision-trees : {0:0.4f}'. format(accuracy_score(y_test, y_pred)))\n",
        "\n",
        "clf.score(X_test, y_test)\n",
        "\n",
        "print(classification_report(y_pred,y_test))\n",
        "\n",
        "\n",
        "confusion_matrix(y_test, y_pred) \n",
        "\"\"\""
      ],
      "execution_count": null,
      "outputs": [
        {
          "output_type": "execute_result",
          "data": {
            "application/vnd.google.colaboratory.intrinsic+json": {
              "type": "string"
            },
            "text/plain": [
              "\"\\nfrom sklearn.metrics import accuracy_score\\n\\nprint('Model accuracy score with 10 decision-trees : {0:0.4f}'. format(accuracy_score(y_test, y_pred)))\\n\\n\\n\""
            ]
          },
          "metadata": {},
          "execution_count": 51
        }
      ]
    },
    {
      "cell_type": "code",
      "metadata": {
        "id": "F6hf4eBk2qyi"
      },
      "source": [
        "X_test1 = pd.read_csv('/content/drive/MyDrive/aics/assinmen1/testdata.csv')"
      ],
      "execution_count": null,
      "outputs": []
    },
    {
      "cell_type": "code",
      "metadata": {
        "colab": {
          "base_uri": "https://localhost:8080/",
          "height": 226
        },
        "id": "v7RTPH4W2xBG",
        "outputId": "1e261595-b218-427e-93b2-e2f5c0c5c2f9"
      },
      "source": [
        "scaler = preprocessing.MinMaxScaler()\n",
        "names =X_test1.columns\n",
        "X_test1 = encoder.transform(X_test1)\n",
        "d = scaler.fit_transform(X_test1)\n",
        "\n",
        "X_test1 = pd.DataFrame(d, columns=names)\n",
        "X_test1.head()"
      ],
      "execution_count": null,
      "outputs": [
        {
          "output_type": "execute_result",
          "data": {
            "text/html": [
              "<div>\n",
              "<style scoped>\n",
              "    .dataframe tbody tr th:only-of-type {\n",
              "        vertical-align: middle;\n",
              "    }\n",
              "\n",
              "    .dataframe tbody tr th {\n",
              "        vertical-align: top;\n",
              "    }\n",
              "\n",
              "    .dataframe thead th {\n",
              "        text-align: right;\n",
              "    }\n",
              "</style>\n",
              "<table border=\"1\" class=\"dataframe\">\n",
              "  <thead>\n",
              "    <tr style=\"text-align: right;\">\n",
              "      <th></th>\n",
              "      <th>ID</th>\n",
              "      <th>duration</th>\n",
              "      <th>protocol_type</th>\n",
              "      <th>service</th>\n",
              "      <th>flag</th>\n",
              "      <th>src_bytes</th>\n",
              "      <th>dst_bytes</th>\n",
              "      <th>land</th>\n",
              "      <th>wrong_fragment</th>\n",
              "      <th>urgent</th>\n",
              "      <th>hot</th>\n",
              "      <th>num_failed_logins</th>\n",
              "      <th>logged_in</th>\n",
              "      <th>num_compromised</th>\n",
              "      <th>root_shell</th>\n",
              "      <th>su_attempted</th>\n",
              "      <th>num_root</th>\n",
              "      <th>num_file_creations</th>\n",
              "      <th>num_shells</th>\n",
              "      <th>num_access_files</th>\n",
              "      <th>num_outbound_cmds</th>\n",
              "      <th>is_host_login</th>\n",
              "      <th>is_guest_login</th>\n",
              "      <th>count</th>\n",
              "      <th>srv_count</th>\n",
              "      <th>serror_rate</th>\n",
              "      <th>srv_serror_rate</th>\n",
              "      <th>rerror_rate</th>\n",
              "      <th>srv_rerror_rate</th>\n",
              "      <th>same_srv_rate</th>\n",
              "      <th>diff_srv_rate</th>\n",
              "      <th>srv_diff_host_rate</th>\n",
              "      <th>dst_host_count</th>\n",
              "      <th>dst_host_srv_count</th>\n",
              "      <th>dst_host_same_srv_rate</th>\n",
              "      <th>dst_host_diff_srv_rate</th>\n",
              "      <th>dst_host_same_src_port_rate</th>\n",
              "      <th>dst_host_srv_diff_host_rate</th>\n",
              "      <th>dst_host_serror_rate</th>\n",
              "      <th>dst_host_srv_serror_rate</th>\n",
              "      <th>dst_host_rerror_rate</th>\n",
              "      <th>dst_host_srv_rerror_rate</th>\n",
              "      <th>level</th>\n",
              "    </tr>\n",
              "  </thead>\n",
              "  <tbody>\n",
              "    <tr>\n",
              "      <th>0</th>\n",
              "      <td>0.000000</td>\n",
              "      <td>0.018576</td>\n",
              "      <td>0.0</td>\n",
              "      <td>0.246154</td>\n",
              "      <td>0.0</td>\n",
              "      <td>0.089581</td>\n",
              "      <td>0.000069</td>\n",
              "      <td>0.0</td>\n",
              "      <td>0.0</td>\n",
              "      <td>0.0</td>\n",
              "      <td>0.0</td>\n",
              "      <td>0.0</td>\n",
              "      <td>1.0</td>\n",
              "      <td>0.0</td>\n",
              "      <td>0.0</td>\n",
              "      <td>0.0</td>\n",
              "      <td>0.0</td>\n",
              "      <td>0.0</td>\n",
              "      <td>0.0</td>\n",
              "      <td>0.0</td>\n",
              "      <td>0.0</td>\n",
              "      <td>0.0</td>\n",
              "      <td>0.0</td>\n",
              "      <td>0.001957</td>\n",
              "      <td>0.001957</td>\n",
              "      <td>0.0</td>\n",
              "      <td>0.0</td>\n",
              "      <td>0.0</td>\n",
              "      <td>0.0</td>\n",
              "      <td>1.00</td>\n",
              "      <td>0.00</td>\n",
              "      <td>0.0</td>\n",
              "      <td>1.000000</td>\n",
              "      <td>0.909804</td>\n",
              "      <td>0.91</td>\n",
              "      <td>0.04</td>\n",
              "      <td>0.00</td>\n",
              "      <td>0.00</td>\n",
              "      <td>0.0</td>\n",
              "      <td>0.0</td>\n",
              "      <td>0.0</td>\n",
              "      <td>0.0</td>\n",
              "      <td>0.761905</td>\n",
              "    </tr>\n",
              "    <tr>\n",
              "      <th>1</th>\n",
              "      <td>0.000044</td>\n",
              "      <td>0.003096</td>\n",
              "      <td>0.0</td>\n",
              "      <td>0.076923</td>\n",
              "      <td>0.2</td>\n",
              "      <td>0.003812</td>\n",
              "      <td>0.000000</td>\n",
              "      <td>0.0</td>\n",
              "      <td>0.0</td>\n",
              "      <td>0.0</td>\n",
              "      <td>0.0</td>\n",
              "      <td>0.0</td>\n",
              "      <td>0.0</td>\n",
              "      <td>0.0</td>\n",
              "      <td>0.0</td>\n",
              "      <td>0.0</td>\n",
              "      <td>0.0</td>\n",
              "      <td>0.0</td>\n",
              "      <td>0.0</td>\n",
              "      <td>0.0</td>\n",
              "      <td>0.0</td>\n",
              "      <td>0.0</td>\n",
              "      <td>0.0</td>\n",
              "      <td>0.469667</td>\n",
              "      <td>0.009785</td>\n",
              "      <td>1.0</td>\n",
              "      <td>1.0</td>\n",
              "      <td>0.0</td>\n",
              "      <td>0.0</td>\n",
              "      <td>0.02</td>\n",
              "      <td>0.07</td>\n",
              "      <td>0.0</td>\n",
              "      <td>1.000000</td>\n",
              "      <td>0.019608</td>\n",
              "      <td>0.02</td>\n",
              "      <td>0.08</td>\n",
              "      <td>0.00</td>\n",
              "      <td>0.00</td>\n",
              "      <td>1.0</td>\n",
              "      <td>1.0</td>\n",
              "      <td>0.0</td>\n",
              "      <td>0.0</td>\n",
              "      <td>1.000000</td>\n",
              "    </tr>\n",
              "    <tr>\n",
              "      <th>2</th>\n",
              "      <td>0.000089</td>\n",
              "      <td>0.003096</td>\n",
              "      <td>0.5</td>\n",
              "      <td>0.076923</td>\n",
              "      <td>0.0</td>\n",
              "      <td>0.303050</td>\n",
              "      <td>0.000040</td>\n",
              "      <td>0.0</td>\n",
              "      <td>0.0</td>\n",
              "      <td>0.0</td>\n",
              "      <td>0.0</td>\n",
              "      <td>0.0</td>\n",
              "      <td>0.0</td>\n",
              "      <td>0.0</td>\n",
              "      <td>0.0</td>\n",
              "      <td>0.0</td>\n",
              "      <td>0.0</td>\n",
              "      <td>0.0</td>\n",
              "      <td>0.0</td>\n",
              "      <td>0.0</td>\n",
              "      <td>0.0</td>\n",
              "      <td>0.0</td>\n",
              "      <td>0.0</td>\n",
              "      <td>1.000000</td>\n",
              "      <td>1.000000</td>\n",
              "      <td>0.0</td>\n",
              "      <td>0.0</td>\n",
              "      <td>0.0</td>\n",
              "      <td>0.0</td>\n",
              "      <td>1.00</td>\n",
              "      <td>0.00</td>\n",
              "      <td>0.0</td>\n",
              "      <td>1.000000</td>\n",
              "      <td>1.000000</td>\n",
              "      <td>1.00</td>\n",
              "      <td>0.00</td>\n",
              "      <td>1.00</td>\n",
              "      <td>0.00</td>\n",
              "      <td>0.0</td>\n",
              "      <td>0.0</td>\n",
              "      <td>0.0</td>\n",
              "      <td>0.0</td>\n",
              "      <td>0.809524</td>\n",
              "    </tr>\n",
              "    <tr>\n",
              "      <th>3</th>\n",
              "      <td>0.000133</td>\n",
              "      <td>0.003096</td>\n",
              "      <td>0.0</td>\n",
              "      <td>0.030769</td>\n",
              "      <td>0.0</td>\n",
              "      <td>0.268742</td>\n",
              "      <td>0.000437</td>\n",
              "      <td>0.0</td>\n",
              "      <td>0.0</td>\n",
              "      <td>0.0</td>\n",
              "      <td>0.0</td>\n",
              "      <td>0.0</td>\n",
              "      <td>1.0</td>\n",
              "      <td>0.0</td>\n",
              "      <td>0.0</td>\n",
              "      <td>0.0</td>\n",
              "      <td>0.0</td>\n",
              "      <td>0.0</td>\n",
              "      <td>0.0</td>\n",
              "      <td>0.0</td>\n",
              "      <td>0.0</td>\n",
              "      <td>0.0</td>\n",
              "      <td>0.0</td>\n",
              "      <td>0.001957</td>\n",
              "      <td>0.001957</td>\n",
              "      <td>0.0</td>\n",
              "      <td>0.0</td>\n",
              "      <td>0.0</td>\n",
              "      <td>0.0</td>\n",
              "      <td>1.00</td>\n",
              "      <td>0.00</td>\n",
              "      <td>0.0</td>\n",
              "      <td>0.031373</td>\n",
              "      <td>1.000000</td>\n",
              "      <td>1.00</td>\n",
              "      <td>0.00</td>\n",
              "      <td>0.12</td>\n",
              "      <td>0.06</td>\n",
              "      <td>0.0</td>\n",
              "      <td>0.0</td>\n",
              "      <td>0.0</td>\n",
              "      <td>0.0</td>\n",
              "      <td>1.000000</td>\n",
              "    </tr>\n",
              "    <tr>\n",
              "      <th>4</th>\n",
              "      <td>0.000178</td>\n",
              "      <td>0.003096</td>\n",
              "      <td>1.0</td>\n",
              "      <td>0.384615</td>\n",
              "      <td>0.0</td>\n",
              "      <td>0.283355</td>\n",
              "      <td>0.000000</td>\n",
              "      <td>0.0</td>\n",
              "      <td>0.0</td>\n",
              "      <td>0.0</td>\n",
              "      <td>0.0</td>\n",
              "      <td>0.0</td>\n",
              "      <td>0.0</td>\n",
              "      <td>0.0</td>\n",
              "      <td>0.0</td>\n",
              "      <td>0.0</td>\n",
              "      <td>0.0</td>\n",
              "      <td>0.0</td>\n",
              "      <td>0.0</td>\n",
              "      <td>0.0</td>\n",
              "      <td>0.0</td>\n",
              "      <td>0.0</td>\n",
              "      <td>0.0</td>\n",
              "      <td>0.608611</td>\n",
              "      <td>0.608611</td>\n",
              "      <td>0.0</td>\n",
              "      <td>0.0</td>\n",
              "      <td>0.0</td>\n",
              "      <td>0.0</td>\n",
              "      <td>1.00</td>\n",
              "      <td>0.00</td>\n",
              "      <td>0.0</td>\n",
              "      <td>1.000000</td>\n",
              "      <td>1.000000</td>\n",
              "      <td>1.00</td>\n",
              "      <td>0.00</td>\n",
              "      <td>1.00</td>\n",
              "      <td>0.00</td>\n",
              "      <td>0.0</td>\n",
              "      <td>0.0</td>\n",
              "      <td>0.0</td>\n",
              "      <td>0.0</td>\n",
              "      <td>0.857143</td>\n",
              "    </tr>\n",
              "  </tbody>\n",
              "</table>\n",
              "</div>"
            ],
            "text/plain": [
              "         ID  duration  ...  dst_host_srv_rerror_rate     level\n",
              "0  0.000000  0.018576  ...                       0.0  0.761905\n",
              "1  0.000044  0.003096  ...                       0.0  1.000000\n",
              "2  0.000089  0.003096  ...                       0.0  0.809524\n",
              "3  0.000133  0.003096  ...                       0.0  1.000000\n",
              "4  0.000178  0.003096  ...                       0.0  0.857143\n",
              "\n",
              "[5 rows x 43 columns]"
            ]
          },
          "metadata": {},
          "execution_count": 16
        }
      ]
    },
    {
      "cell_type": "code",
      "metadata": {
        "id": "8hexXINO3BiU"
      },
      "source": [
        "\"\"\"\n",
        "\n",
        "pca = PCA(n_components = 2)\n",
        "#fit بلاش فقشىسبخقة جاب ايرور\n",
        "X_test1 = pca.fit_transform(X_test1)\n",
        "\n",
        "\n",
        "\n",
        "\n",
        "\"\"\""
      ],
      "execution_count": null,
      "outputs": []
    },
    {
      "cell_type": "code",
      "metadata": {
        "id": "ab3y9PdHSAXE"
      },
      "source": [
        "X_test1=X_test1.drop(corr_features,axis=1)"
      ],
      "execution_count": null,
      "outputs": []
    },
    {
      "cell_type": "code",
      "metadata": {
        "colab": {
          "base_uri": "https://localhost:8080/"
        },
        "id": "Q8Yt3lR06i8-",
        "outputId": "0ffd7383-eadf-4a1c-e5bd-2c8e12de057e"
      },
      "source": [
        "predictions1 = clf.predict(X_test1)\n",
        "predictions1"
      ],
      "execution_count": null,
      "outputs": [
        {
          "output_type": "execute_result",
          "data": {
            "text/plain": [
              "array([0, 1, 0, ..., 1, 0, 1])"
            ]
          },
          "metadata": {},
          "execution_count": 18
        }
      ]
    },
    {
      "cell_type": "code",
      "metadata": {
        "id": "cUZU1mbRXR5F"
      },
      "source": [
        "predictions1 = clf.predict(X_test1)\n",
        "predictions1\n",
        "import numpy as np\n",
        "import pandas as pd\n",
        "prediction1 = pd.DataFrame(predictions1, columns=['Class']).to_csv('predictionmlppcanormalize22.csv')"
      ],
      "execution_count": null,
      "outputs": []
    },
    {
      "cell_type": "markdown",
      "metadata": {
        "id": "Wq44gwwv8bXO"
      },
      "source": [
        "##2svm"
      ]
    },
    {
      "cell_type": "code",
      "metadata": {
        "colab": {
          "base_uri": "https://localhost:8080/"
        },
        "id": "zq7I6yfu8dkr",
        "outputId": "fe9af1e9-7b75-4702-95bb-f5993de9686a"
      },
      "source": [
        "\"\"\"\n",
        "from sklearn import svm, datasets\n",
        "from sklearn.model_selection import GridSearchCV\n",
        "# iris = datasets.load_iris()\n",
        "parameters = {'kernel':('linear', 'rbf'), 'C':[1, 1000]}\n",
        "svc = svm.SVC()\n",
        "clf1 = GridSearchCV(svc, parameters)\n",
        "clf1.fit(X_train, y_train)\n",
        "\n",
        "\n",
        "\"\"\""
      ],
      "execution_count": null,
      "outputs": [
        {
          "output_type": "execute_result",
          "data": {
            "text/plain": [
              "GridSearchCV(cv=None, error_score=nan,\n",
              "             estimator=SVC(C=1.0, break_ties=False, cache_size=200,\n",
              "                           class_weight=None, coef0=0.0,\n",
              "                           decision_function_shape='ovr', degree=3,\n",
              "                           gamma='scale', kernel='rbf', max_iter=-1,\n",
              "                           probability=False, random_state=None, shrinking=True,\n",
              "                           tol=0.001, verbose=False),\n",
              "             iid='deprecated', n_jobs=None,\n",
              "             param_grid={'C': [1, 1000], 'kernel': ('linear', 'rbf')},\n",
              "             pre_dispatch='2*n_jobs', refit=True, return_train_score=False,\n",
              "             scoring=None, verbose=0)"
            ]
          },
          "metadata": {},
          "execution_count": 59
        }
      ]
    },
    {
      "cell_type": "code",
      "metadata": {
        "id": "p_UebvrQ9g4R"
      },
      "source": [
        "y_pred2=clf1.predict(X_test)"
      ],
      "execution_count": null,
      "outputs": []
    },
    {
      "cell_type": "code",
      "metadata": {
        "colab": {
          "base_uri": "https://localhost:8080/"
        },
        "id": "76iOsAkP92n5",
        "outputId": "2959f7d3-6a1a-4ed2-b277-1ef8a5512178"
      },
      "source": [
        "print(classification_report(y_pred2,y_test))"
      ],
      "execution_count": null,
      "outputs": [
        {
          "output_type": "stream",
          "name": "stdout",
          "text": [
            "              precision    recall  f1-score   support\n",
            "\n",
            "           0       1.00      1.00      1.00      2380\n",
            "           1       1.00      1.00      1.00      2221\n",
            "\n",
            "    accuracy                           1.00      4601\n",
            "   macro avg       1.00      1.00      1.00      4601\n",
            "weighted avg       1.00      1.00      1.00      4601\n",
            "\n"
          ]
        }
      ]
    },
    {
      "cell_type": "code",
      "metadata": {
        "colab": {
          "base_uri": "https://localhost:8080/"
        },
        "id": "dukOwhY9ifVK",
        "outputId": "735c4723-e227-4c2a-b658-3755a93b11ed"
      },
      "source": [
        "confusion_matrix(y_test, y_pred2) "
      ],
      "execution_count": null,
      "outputs": [
        {
          "output_type": "execute_result",
          "data": {
            "text/plain": [
              "array([[2375,    8],\n",
              "       [   5, 2213]])"
            ]
          },
          "metadata": {},
          "execution_count": 145
        }
      ]
    },
    {
      "cell_type": "code",
      "metadata": {
        "colab": {
          "base_uri": "https://localhost:8080/"
        },
        "id": "bm6kEelc7hIn",
        "outputId": "06b9bd80-6208-420e-b2a4-b09f55efa69a"
      },
      "source": [
        "from sklearn import svm, datasets\n",
        "from sklearn.model_selection import GridSearchCV\n",
        "# iris = datasets.load_iris()\n",
        "parameters = {'kernel':('linear', 'rbf'), 'C':[1, 1000]}\n",
        "svc = svm.SVC()\n",
        "clf1 = GridSearchCV(svc, parameters)\n",
        "clf1.fit(X, y)"
      ],
      "execution_count": null,
      "outputs": [
        {
          "output_type": "execute_result",
          "data": {
            "text/plain": [
              "GridSearchCV(cv=None, error_score=nan,\n",
              "             estimator=SVC(C=1.0, break_ties=False, cache_size=200,\n",
              "                           class_weight=None, coef0=0.0,\n",
              "                           decision_function_shape='ovr', degree=3,\n",
              "                           gamma='scale', kernel='rbf', max_iter=-1,\n",
              "                           probability=False, random_state=None, shrinking=True,\n",
              "                           tol=0.001, verbose=False),\n",
              "             iid='deprecated', n_jobs=None,\n",
              "             param_grid={'C': [1, 1000], 'kernel': ('linear', 'rbf')},\n",
              "             pre_dispatch='2*n_jobs', refit=True, return_train_score=False,\n",
              "             scoring=None, verbose=0)"
            ]
          },
          "metadata": {},
          "execution_count": 58
        }
      ]
    },
    {
      "cell_type": "code",
      "metadata": {
        "id": "tfewr--WTgJQ"
      },
      "source": [
        "predictionssvm = clf1.predict(X_test1)\n",
        "predictionssvm\n",
        "import numpy as np\n",
        "import pandas as pd\n",
        "pd.DataFrame(predictionssvm, columns=['Class']).to_csv('selecclf1nssvmnormalize2.csv')"
      ],
      "execution_count": null,
      "outputs": []
    },
    {
      "cell_type": "markdown",
      "metadata": {
        "id": "MpZoqie6Th3R"
      },
      "source": [
        "##gridsearch2"
      ]
    },
    {
      "cell_type": "code",
      "metadata": {
        "colab": {
          "base_uri": "https://localhost:8080/"
        },
        "id": "C7Jq-lgRCqlW",
        "outputId": "42b7cd55-81a2-4567-823a-d48d2b19d808"
      },
      "source": [
        "from sklearn.model_selection import GridSearchCV\n",
        "import pandas as pd\n",
        "import numpy as np\n",
        "from sklearn.metrics import classification_report, confusion_matrix\n",
        "from sklearn.datasets import load_breast_cancer\n",
        "from sklearn.svm import SVC\n",
        "# defining parameter range\n",
        "param_grid = {'C': [0.1, 1, 10, 100, 1000],\n",
        "\t\t\t'gamma': [1, 0.1, 0.01, 0.001, 0.0001],\n",
        "\t\t\t'kernel': ['rbf']}\n",
        "\n",
        "grid = GridSearchCV(SVC(), param_grid, refit = True, verbose = 3)\n",
        "\n",
        "# fitting the model for grid search\n",
        "grid.fit(X_train, y_train)\n"
      ],
      "execution_count": null,
      "outputs": [
        {
          "metadata": {
            "tags": null
          },
          "name": "stdout",
          "output_type": "stream",
          "text": [
            "Fitting 5 folds for each of 25 candidates, totalling 125 fits\n",
            "[CV] C=0.1, gamma=1, kernel=rbf ......................................\n"
          ]
        },
        {
          "metadata": {
            "tags": null
          },
          "name": "stderr",
          "output_type": "stream",
          "text": [
            "[Parallel(n_jobs=1)]: Using backend SequentialBackend with 1 concurrent workers.\n"
          ]
        },
        {
          "metadata": {
            "tags": null
          },
          "name": "stdout",
          "output_type": "stream",
          "text": [
            "[CV] .......... C=0.1, gamma=1, kernel=rbf, score=0.992, total=   2.2s\n",
            "[CV] C=0.1, gamma=1, kernel=rbf ......................................\n"
          ]
        },
        {
          "metadata": {
            "tags": null
          },
          "name": "stderr",
          "output_type": "stream",
          "text": [
            "[Parallel(n_jobs=1)]: Done   1 out of   1 | elapsed:    2.2s remaining:    0.0s\n"
          ]
        },
        {
          "metadata": {
            "tags": null
          },
          "name": "stdout",
          "output_type": "stream",
          "text": [
            "[CV] .......... C=0.1, gamma=1, kernel=rbf, score=0.989, total=   2.1s\n",
            "[CV] C=0.1, gamma=1, kernel=rbf ......................................\n"
          ]
        },
        {
          "metadata": {
            "tags": null
          },
          "name": "stderr",
          "output_type": "stream",
          "text": [
            "[Parallel(n_jobs=1)]: Done   2 out of   2 | elapsed:    4.3s remaining:    0.0s\n"
          ]
        },
        {
          "output_type": "stream",
          "name": "stdout",
          "text": [
            "[CV] .......... C=0.1, gamma=1, kernel=rbf, score=0.989, total=   2.1s\n",
            "[CV] C=0.1, gamma=1, kernel=rbf ......................................\n",
            "[CV] .......... C=0.1, gamma=1, kernel=rbf, score=0.991, total=   2.1s\n",
            "[CV] C=0.1, gamma=1, kernel=rbf ......................................\n",
            "[CV] .......... C=0.1, gamma=1, kernel=rbf, score=0.989, total=   2.1s\n",
            "[CV] C=0.1, gamma=0.1, kernel=rbf ....................................\n",
            "[CV] ........ C=0.1, gamma=0.1, kernel=rbf, score=0.976, total=   3.0s\n",
            "[CV] C=0.1, gamma=0.1, kernel=rbf ....................................\n",
            "[CV] ........ C=0.1, gamma=0.1, kernel=rbf, score=0.972, total=   2.8s\n",
            "[CV] C=0.1, gamma=0.1, kernel=rbf ....................................\n",
            "[CV] ........ C=0.1, gamma=0.1, kernel=rbf, score=0.970, total=   2.9s\n",
            "[CV] C=0.1, gamma=0.1, kernel=rbf ....................................\n",
            "[CV] ........ C=0.1, gamma=0.1, kernel=rbf, score=0.975, total=   2.9s\n",
            "[CV] C=0.1, gamma=0.1, kernel=rbf ....................................\n",
            "[CV] ........ C=0.1, gamma=0.1, kernel=rbf, score=0.972, total=   2.7s\n",
            "[CV] C=0.1, gamma=0.01, kernel=rbf ...................................\n",
            "[CV] ....... C=0.1, gamma=0.01, kernel=rbf, score=0.947, total=   5.5s\n",
            "[CV] C=0.1, gamma=0.01, kernel=rbf ...................................\n",
            "[CV] ....... C=0.1, gamma=0.01, kernel=rbf, score=0.945, total=   5.4s\n",
            "[CV] C=0.1, gamma=0.01, kernel=rbf ...................................\n",
            "[CV] ....... C=0.1, gamma=0.01, kernel=rbf, score=0.948, total=   5.5s\n",
            "[CV] C=0.1, gamma=0.01, kernel=rbf ...................................\n",
            "[CV] ....... C=0.1, gamma=0.01, kernel=rbf, score=0.939, total=   5.4s\n",
            "[CV] C=0.1, gamma=0.01, kernel=rbf ...................................\n",
            "[CV] ....... C=0.1, gamma=0.01, kernel=rbf, score=0.934, total=   5.3s\n",
            "[CV] C=0.1, gamma=0.001, kernel=rbf ..................................\n",
            "[CV] ...... C=0.1, gamma=0.001, kernel=rbf, score=0.892, total=   9.8s\n",
            "[CV] C=0.1, gamma=0.001, kernel=rbf ..................................\n",
            "[CV] ...... C=0.1, gamma=0.001, kernel=rbf, score=0.891, total=   9.7s\n",
            "[CV] C=0.1, gamma=0.001, kernel=rbf ..................................\n",
            "[CV] ...... C=0.1, gamma=0.001, kernel=rbf, score=0.899, total=  10.0s\n",
            "[CV] C=0.1, gamma=0.001, kernel=rbf ..................................\n",
            "[CV] ...... C=0.1, gamma=0.001, kernel=rbf, score=0.905, total=   9.8s\n",
            "[CV] C=0.1, gamma=0.001, kernel=rbf ..................................\n",
            "[CV] ...... C=0.1, gamma=0.001, kernel=rbf, score=0.886, total=   9.8s\n",
            "[CV] C=0.1, gamma=0.0001, kernel=rbf .................................\n",
            "[CV] ..... C=0.1, gamma=0.0001, kernel=rbf, score=0.523, total=  17.5s\n",
            "[CV] C=0.1, gamma=0.0001, kernel=rbf .................................\n",
            "[CV] ..... C=0.1, gamma=0.0001, kernel=rbf, score=0.523, total=  17.4s\n",
            "[CV] C=0.1, gamma=0.0001, kernel=rbf .................................\n",
            "[CV] ..... C=0.1, gamma=0.0001, kernel=rbf, score=0.523, total=  17.4s\n",
            "[CV] C=0.1, gamma=0.0001, kernel=rbf .................................\n",
            "[CV] ..... C=0.1, gamma=0.0001, kernel=rbf, score=0.523, total=  17.4s\n",
            "[CV] C=0.1, gamma=0.0001, kernel=rbf .................................\n",
            "[CV] ..... C=0.1, gamma=0.0001, kernel=rbf, score=0.523, total=  17.3s\n",
            "[CV] C=1, gamma=1, kernel=rbf ........................................\n",
            "[CV] ............ C=1, gamma=1, kernel=rbf, score=0.996, total=   1.0s\n",
            "[CV] C=1, gamma=1, kernel=rbf ........................................\n",
            "[CV] ............ C=1, gamma=1, kernel=rbf, score=0.996, total=   1.0s\n",
            "[CV] C=1, gamma=1, kernel=rbf ........................................\n",
            "[CV] ............ C=1, gamma=1, kernel=rbf, score=0.996, total=   1.0s\n",
            "[CV] C=1, gamma=1, kernel=rbf ........................................\n",
            "[CV] ............ C=1, gamma=1, kernel=rbf, score=0.995, total=   1.0s\n",
            "[CV] C=1, gamma=1, kernel=rbf ........................................\n",
            "[CV] ............ C=1, gamma=1, kernel=rbf, score=0.995, total=   1.0s\n",
            "[CV] C=1, gamma=0.1, kernel=rbf ......................................\n",
            "[CV] .......... C=1, gamma=0.1, kernel=rbf, score=0.991, total=   1.2s\n",
            "[CV] C=1, gamma=0.1, kernel=rbf ......................................\n",
            "[CV] .......... C=1, gamma=0.1, kernel=rbf, score=0.989, total=   1.2s\n",
            "[CV] C=1, gamma=0.1, kernel=rbf ......................................\n",
            "[CV] .......... C=1, gamma=0.1, kernel=rbf, score=0.990, total=   1.2s\n",
            "[CV] C=1, gamma=0.1, kernel=rbf ......................................\n",
            "[CV] .......... C=1, gamma=0.1, kernel=rbf, score=0.990, total=   1.2s\n",
            "[CV] C=1, gamma=0.1, kernel=rbf ......................................\n",
            "[CV] .......... C=1, gamma=0.1, kernel=rbf, score=0.991, total=   1.2s\n",
            "[CV] C=1, gamma=0.01, kernel=rbf .....................................\n",
            "[CV] ......... C=1, gamma=0.01, kernel=rbf, score=0.977, total=   3.0s\n",
            "[CV] C=1, gamma=0.01, kernel=rbf .....................................\n",
            "[CV] ......... C=1, gamma=0.01, kernel=rbf, score=0.973, total=   2.9s\n",
            "[CV] C=1, gamma=0.01, kernel=rbf .....................................\n",
            "[CV] ......... C=1, gamma=0.01, kernel=rbf, score=0.976, total=   3.0s\n",
            "[CV] C=1, gamma=0.01, kernel=rbf .....................................\n",
            "[CV] ......... C=1, gamma=0.01, kernel=rbf, score=0.973, total=   2.9s\n",
            "[CV] C=1, gamma=0.01, kernel=rbf .....................................\n",
            "[CV] ......... C=1, gamma=0.01, kernel=rbf, score=0.970, total=   2.9s\n",
            "[CV] C=1, gamma=0.001, kernel=rbf ....................................\n",
            "[CV] ........ C=1, gamma=0.001, kernel=rbf, score=0.947, total=   5.4s\n",
            "[CV] C=1, gamma=0.001, kernel=rbf ....................................\n",
            "[CV] ........ C=1, gamma=0.001, kernel=rbf, score=0.944, total=   5.3s\n",
            "[CV] C=1, gamma=0.001, kernel=rbf ....................................\n",
            "[CV] ........ C=1, gamma=0.001, kernel=rbf, score=0.947, total=   5.5s\n",
            "[CV] C=1, gamma=0.001, kernel=rbf ....................................\n",
            "[CV] ........ C=1, gamma=0.001, kernel=rbf, score=0.937, total=   5.4s\n",
            "[CV] C=1, gamma=0.001, kernel=rbf ....................................\n",
            "[CV] ........ C=1, gamma=0.001, kernel=rbf, score=0.933, total=   5.3s\n",
            "[CV] C=1, gamma=0.0001, kernel=rbf ...................................\n",
            "[CV] ....... C=1, gamma=0.0001, kernel=rbf, score=0.892, total=   9.8s\n",
            "[CV] C=1, gamma=0.0001, kernel=rbf ...................................\n",
            "[CV] ....... C=1, gamma=0.0001, kernel=rbf, score=0.891, total=   9.6s\n",
            "[CV] C=1, gamma=0.0001, kernel=rbf ...................................\n",
            "[CV] ....... C=1, gamma=0.0001, kernel=rbf, score=0.899, total=   9.7s\n",
            "[CV] C=1, gamma=0.0001, kernel=rbf ...................................\n",
            "[CV] ....... C=1, gamma=0.0001, kernel=rbf, score=0.905, total=   9.6s\n",
            "[CV] C=1, gamma=0.0001, kernel=rbf ...................................\n",
            "[CV] ....... C=1, gamma=0.0001, kernel=rbf, score=0.886, total=   9.6s\n",
            "[CV] C=10, gamma=1, kernel=rbf .......................................\n",
            "[CV] ........... C=10, gamma=1, kernel=rbf, score=0.997, total=   0.8s\n",
            "[CV] C=10, gamma=1, kernel=rbf .......................................\n",
            "[CV] ........... C=10, gamma=1, kernel=rbf, score=0.998, total=   0.8s\n",
            "[CV] C=10, gamma=1, kernel=rbf .......................................\n",
            "[CV] ........... C=10, gamma=1, kernel=rbf, score=0.997, total=   0.8s\n",
            "[CV] C=10, gamma=1, kernel=rbf .......................................\n",
            "[CV] ........... C=10, gamma=1, kernel=rbf, score=0.997, total=   0.8s\n",
            "[CV] C=10, gamma=1, kernel=rbf .......................................\n",
            "[CV] ........... C=10, gamma=1, kernel=rbf, score=0.996, total=   0.8s\n",
            "[CV] C=10, gamma=0.1, kernel=rbf .....................................\n",
            "[CV] ......... C=10, gamma=0.1, kernel=rbf, score=0.996, total=   0.7s\n",
            "[CV] C=10, gamma=0.1, kernel=rbf .....................................\n",
            "[CV] ......... C=10, gamma=0.1, kernel=rbf, score=0.995, total=   0.7s\n",
            "[CV] C=10, gamma=0.1, kernel=rbf .....................................\n",
            "[CV] ......... C=10, gamma=0.1, kernel=rbf, score=0.994, total=   0.7s\n",
            "[CV] C=10, gamma=0.1, kernel=rbf .....................................\n",
            "[CV] ......... C=10, gamma=0.1, kernel=rbf, score=0.994, total=   0.7s\n",
            "[CV] C=10, gamma=0.1, kernel=rbf .....................................\n",
            "[CV] ......... C=10, gamma=0.1, kernel=rbf, score=0.994, total=   0.7s\n",
            "[CV] C=10, gamma=0.01, kernel=rbf ....................................\n",
            "[CV] ........ C=10, gamma=0.01, kernel=rbf, score=0.983, total=   1.5s\n",
            "[CV] C=10, gamma=0.01, kernel=rbf ....................................\n",
            "[CV] ........ C=10, gamma=0.01, kernel=rbf, score=0.982, total=   1.5s\n",
            "[CV] C=10, gamma=0.01, kernel=rbf ....................................\n",
            "[CV] ........ C=10, gamma=0.01, kernel=rbf, score=0.982, total=   1.5s\n",
            "[CV] C=10, gamma=0.01, kernel=rbf ....................................\n",
            "[CV] ........ C=10, gamma=0.01, kernel=rbf, score=0.984, total=   1.5s\n",
            "[CV] C=10, gamma=0.01, kernel=rbf ....................................\n",
            "[CV] ........ C=10, gamma=0.01, kernel=rbf, score=0.982, total=   1.5s\n",
            "[CV] C=10, gamma=0.001, kernel=rbf ...................................\n",
            "[CV] ....... C=10, gamma=0.001, kernel=rbf, score=0.972, total=   3.0s\n",
            "[CV] C=10, gamma=0.001, kernel=rbf ...................................\n",
            "[CV] ....... C=10, gamma=0.001, kernel=rbf, score=0.970, total=   3.1s\n",
            "[CV] C=10, gamma=0.001, kernel=rbf ...................................\n",
            "[CV] ....... C=10, gamma=0.001, kernel=rbf, score=0.974, total=   3.2s\n",
            "[CV] C=10, gamma=0.001, kernel=rbf ...................................\n",
            "[CV] ....... C=10, gamma=0.001, kernel=rbf, score=0.967, total=   3.1s\n",
            "[CV] C=10, gamma=0.001, kernel=rbf ...................................\n"
          ]
        }
      ]
    },
    {
      "cell_type": "code",
      "metadata": {
        "colab": {
          "base_uri": "https://localhost:8080/"
        },
        "id": "22MqpaUbGIgC",
        "outputId": "426fb58a-1e45-4e66-b219-119fed5bb943"
      },
      "source": [
        "\n",
        "# print best parameter after tuning\n",
        "print(grid.best_params_)\n",
        "\n",
        "# print how our model looks after hyper-parameter tuning\n",
        "print(grid.best_estimator_)\n"
      ],
      "execution_count": null,
      "outputs": [
        {
          "output_type": "stream",
          "name": "stdout",
          "text": [
            "{'C': 100, 'gamma': 1, 'kernel': 'rbf'}\n",
            "SVC(C=100, break_ties=False, cache_size=200, class_weight=None, coef0=0.0,\n",
            "    decision_function_shape='ovr', degree=3, gamma=1, kernel='rbf', max_iter=-1,\n",
            "    probability=False, random_state=None, shrinking=True, tol=0.001,\n",
            "    verbose=False)\n"
          ]
        }
      ]
    },
    {
      "cell_type": "code",
      "metadata": {
        "colab": {
          "base_uri": "https://localhost:8080/"
        },
        "id": "kIRQ4Zr3HHPj",
        "outputId": "d912d21e-25dc-43f0-d16a-a2ca4212f956"
      },
      "source": [
        "# train the model on train set\n",
        "model = SVC(C=0.1, break_ties=False, cache_size=200, class_weight=None, coef0=0.0,\n",
        "    decision_function_shape='ovr', degree=3, gamma=1, kernel='rbf', max_iter=-1,\n",
        "    probability=False, random_state=None, shrinking=True, tol=0.001,\n",
        "    verbose=False)\n",
        "model.fit(X_train, y_train)\n",
        "\n",
        "# print prediction results\n",
        "predictions = model.predict(X_test)\n",
        "print(classification_report(y_test, predictions))\n"
      ],
      "execution_count": null,
      "outputs": [
        {
          "output_type": "stream",
          "name": "stdout",
          "text": [
            "              precision    recall  f1-score   support\n",
            "\n",
            "           0       0.99      0.99      0.99      2383\n",
            "           1       0.99      0.99      0.99      2218\n",
            "\n",
            "    accuracy                           0.99      4601\n",
            "   macro avg       0.99      0.99      0.99      4601\n",
            "weighted avg       0.99      0.99      0.99      4601\n",
            "\n"
          ]
        }
      ]
    },
    {
      "cell_type": "code",
      "metadata": {
        "colab": {
          "base_uri": "https://localhost:8080/"
        },
        "id": "eeeHUj4aim6J",
        "outputId": "3997b675-a84b-4069-930a-93f94341aaaa"
      },
      "source": [
        "confusion_matrix(y_test, predictions) "
      ],
      "execution_count": null,
      "outputs": [
        {
          "output_type": "execute_result",
          "data": {
            "text/plain": [
              "array([[2364,   19],\n",
              "       [   7, 2211]])"
            ]
          },
          "metadata": {},
          "execution_count": 146
        }
      ]
    },
    {
      "cell_type": "markdown",
      "metadata": {
        "id": "CUQC5SwwHVAx"
      },
      "source": [
        "##3Decision tree"
      ]
    },
    {
      "cell_type": "code",
      "metadata": {
        "id": "QMov0-YsHa57"
      },
      "source": [
        "from sklearn.tree import DecisionTreeClassifier\n",
        "from sklearn.tree import export_text"
      ],
      "execution_count": null,
      "outputs": []
    },
    {
      "cell_type": "code",
      "metadata": {
        "colab": {
          "base_uri": "https://localhost:8080/"
        },
        "id": "Al1Y6_0AHbBa",
        "outputId": "c3b430a1-e011-4476-ba6d-c281e706e831"
      },
      "source": [
        "decision_tree = DecisionTreeClassifier(criterion=\"gini\",random_state=9, max_depth=10,min_samples_split=4,min_samples_leaf=1)\n",
        "decision_tree.fit(X_train, y_train)"
      ],
      "execution_count": null,
      "outputs": [
        {
          "output_type": "execute_result",
          "data": {
            "text/plain": [
              "DecisionTreeClassifier(ccp_alpha=0.0, class_weight=None, criterion='gini',\n",
              "                       max_depth=10, max_features=None, max_leaf_nodes=None,\n",
              "                       min_impurity_decrease=0.0, min_impurity_split=None,\n",
              "                       min_samples_leaf=1, min_samples_split=4,\n",
              "                       min_weight_fraction_leaf=0.0, presort='deprecated',\n",
              "                       random_state=9, splitter='best')"
            ]
          },
          "metadata": {},
          "execution_count": 69
        }
      ]
    },
    {
      "cell_type": "code",
      "metadata": {
        "colab": {
          "base_uri": "https://localhost:8080/"
        },
        "id": "sBJJFj4SHbDp",
        "outputId": "025da5e0-c0ea-437d-c5c3-fca18b0256ff"
      },
      "source": [
        "# print prediction results\n",
        "predictions2=decision_tree.predict(X_test)\n",
        "print(classification_report(y_test, predictions2))"
      ],
      "execution_count": null,
      "outputs": [
        {
          "output_type": "stream",
          "name": "stdout",
          "text": [
            "              precision    recall  f1-score   support\n",
            "\n",
            "           0       1.00      0.99      0.99      2383\n",
            "           1       0.99      1.00      0.99      2218\n",
            "\n",
            "    accuracy                           0.99      4601\n",
            "   macro avg       0.99      0.99      0.99      4601\n",
            "weighted avg       0.99      0.99      0.99      4601\n",
            "\n"
          ]
        }
      ]
    },
    {
      "cell_type": "code",
      "metadata": {
        "colab": {
          "base_uri": "https://localhost:8080/"
        },
        "id": "VovQCKMjir22",
        "outputId": "2b6cac98-75c2-4cdc-8654-8ef593165821"
      },
      "source": [
        "confusion_matrix(y_test, predictions2) "
      ],
      "execution_count": null,
      "outputs": [
        {
          "output_type": "execute_result",
          "data": {
            "text/plain": [
              "array([[2364,   19],\n",
              "       [   7, 2211]])"
            ]
          },
          "metadata": {},
          "execution_count": 148
        }
      ]
    },
    {
      "cell_type": "markdown",
      "metadata": {
        "id": "akzLR6A-KMPE"
      },
      "source": [
        "##4rondomforest"
      ]
    },
    {
      "cell_type": "code",
      "metadata": {
        "id": "wT0h4VWwHbHe"
      },
      "source": [
        "from sklearn.ensemble import RandomForestClassifier"
      ],
      "execution_count": null,
      "outputs": []
    },
    {
      "cell_type": "code",
      "metadata": {
        "colab": {
          "base_uri": "https://localhost:8080/"
        },
        "id": "uAHogyOlHbKr",
        "outputId": "f07ad31d-d09b-4777-ffcb-c999e227d73c"
      },
      "source": [
        "randomForest = RandomForestClassifier(max_depth=9, random_state=200)\n",
        "randomForest.fit(X_train,y_train)"
      ],
      "execution_count": null,
      "outputs": [
        {
          "output_type": "execute_result",
          "data": {
            "text/plain": [
              "RandomForestClassifier(bootstrap=True, ccp_alpha=0.0, class_weight=None,\n",
              "                       criterion='gini', max_depth=9, max_features='auto',\n",
              "                       max_leaf_nodes=None, max_samples=None,\n",
              "                       min_impurity_decrease=0.0, min_impurity_split=None,\n",
              "                       min_samples_leaf=1, min_samples_split=2,\n",
              "                       min_weight_fraction_leaf=0.0, n_estimators=100,\n",
              "                       n_jobs=None, oob_score=False, random_state=200,\n",
              "                       verbose=0, warm_start=False)"
            ]
          },
          "metadata": {},
          "execution_count": 74
        }
      ]
    },
    {
      "cell_type": "code",
      "metadata": {
        "colab": {
          "base_uri": "https://localhost:8080/"
        },
        "id": "Ee0iR7N0HbSR",
        "outputId": "92f63188-c56a-424a-e992-5075d22d4f11"
      },
      "source": [
        "# print prediction results\n",
        "predictions3 =randomForest.predict(X_test)\n",
        "print(classification_report(y_test, predictions3))"
      ],
      "execution_count": null,
      "outputs": [
        {
          "output_type": "stream",
          "name": "stdout",
          "text": [
            "              precision    recall  f1-score   support\n",
            "\n",
            "           0       1.00      1.00      1.00      2383\n",
            "           1       1.00      1.00      1.00      2218\n",
            "\n",
            "    accuracy                           1.00      4601\n",
            "   macro avg       1.00      1.00      1.00      4601\n",
            "weighted avg       1.00      1.00      1.00      4601\n",
            "\n"
          ]
        }
      ]
    },
    {
      "cell_type": "code",
      "metadata": {
        "colab": {
          "base_uri": "https://localhost:8080/"
        },
        "id": "7xKei17pi6Gh",
        "outputId": "783a4013-f4e3-4dc4-8e74-a20effdd53a6"
      },
      "source": [
        "confusion_matrix(y_test, predictions3) "
      ],
      "execution_count": null,
      "outputs": [
        {
          "output_type": "execute_result",
          "data": {
            "text/plain": [
              "array([[2375,    8],\n",
              "       [   2, 2216]])"
            ]
          },
          "metadata": {},
          "execution_count": 150
        }
      ]
    },
    {
      "cell_type": "code",
      "metadata": {
        "id": "34ndZDvCYqc1"
      },
      "source": [
        "predictionsrandomForest = clf1.predict(X_test1)\n",
        "predictionsrandomForest\n",
        "import numpy as np\n",
        "import pandas as pd\n",
        "pd.DataFrame(predictionsrandomForest, columns=['Class']).to_csv('selecclf1nssrandomForestnormalize.csv')"
      ],
      "execution_count": null,
      "outputs": []
    },
    {
      "cell_type": "markdown",
      "metadata": {
        "id": "xu6hpclAMgHh"
      },
      "source": [
        "##5knn\n",
        "For better results, normalizing data on the same scale is highly recommended. Generally, the normalization range considered between 0 and 1. KNN is not suitable for the large dimensional data\n",
        "https://www.datacamp.com/community/tutorials/k-nearest-neighbor-classification-scikit-learn"
      ]
    },
    {
      "cell_type": "code",
      "metadata": {
        "colab": {
          "base_uri": "https://localhost:8080/"
        },
        "id": "3DvZN91CMkmM",
        "outputId": "c8c4a6b2-6ed9-4041-8383-3e75960d50d1"
      },
      "source": [
        "from sklearn.neighbors import KNeighborsClassifier\n",
        "\n",
        "model = KNeighborsClassifier(n_neighbors=3)\n",
        "\n",
        "# Train the model using the training sets\n",
        "model.fit(X_train,y_train)\n",
        "\n",
        "#Predict Output\n",
        "predicted= model.predict(X_test) # 0:Overcast, 2:Mild\n",
        "print(predicted)"
      ],
      "execution_count": null,
      "outputs": [
        {
          "output_type": "stream",
          "name": "stdout",
          "text": [
            "[1 0 0 ... 1 0 0]\n"
          ]
        }
      ]
    },
    {
      "cell_type": "code",
      "metadata": {
        "colab": {
          "base_uri": "https://localhost:8080/"
        },
        "id": "ld1_xt8oMko4",
        "outputId": "1a53f670-7171-40e5-cb7d-fdbc6f1d1f2b"
      },
      "source": [
        "print(classification_report(y_test, predicted))"
      ],
      "execution_count": null,
      "outputs": [
        {
          "output_type": "stream",
          "name": "stdout",
          "text": [
            "              precision    recall  f1-score   support\n",
            "\n",
            "           0       1.00      1.00      1.00      2383\n",
            "           1       1.00      1.00      1.00      2218\n",
            "\n",
            "    accuracy                           1.00      4601\n",
            "   macro avg       1.00      1.00      1.00      4601\n",
            "weighted avg       1.00      1.00      1.00      4601\n",
            "\n"
          ]
        }
      ]
    },
    {
      "cell_type": "code",
      "metadata": {
        "colab": {
          "base_uri": "https://localhost:8080/"
        },
        "id": "mELz6aWDMks1",
        "outputId": "401b36d7-bf1c-49a8-fdbb-42712a93a150"
      },
      "source": [
        "confusion_matrix(y_test, predicted) "
      ],
      "execution_count": null,
      "outputs": [
        {
          "output_type": "execute_result",
          "data": {
            "text/plain": [
              "array([[2376,    7],\n",
              "       [   7, 2211]])"
            ]
          },
          "metadata": {},
          "execution_count": 151
        }
      ]
    },
    {
      "cell_type": "code",
      "metadata": {
        "id": "9THEpiupXYVA"
      },
      "source": [
        "predictionsknn = model.predict(X_test1)\n",
        "predictionsknn\n",
        "import numpy as np\n",
        "import pandas as pd\n",
        "pd.DataFrame(predictionsknn, columns=['Class']).to_csv('predictionpsknnpcanormalize.csv')"
      ],
      "execution_count": null,
      "outputs": []
    },
    {
      "cell_type": "markdown",
      "metadata": {
        "id": "gvq3U7-0Rrjz"
      },
      "source": [
        "#kknn elbow to get num k"
      ]
    },
    {
      "cell_type": "code",
      "metadata": {
        "id": "1rYnu31KMkvv"
      },
      "source": [
        "from sklearn.metrics import classification_report,confusion_matrix,accuracy_score,plot_confusion_matrix"
      ],
      "execution_count": null,
      "outputs": []
    },
    {
      "cell_type": "code",
      "metadata": {
        "id": "VI3MmT2jMk3g"
      },
      "source": [
        "knn_model = KNeighborsClassifier()"
      ],
      "execution_count": null,
      "outputs": []
    },
    {
      "cell_type": "code",
      "metadata": {
        "id": "hEPTrYP0R2-k"
      },
      "source": [
        "test_error_rates = []\n",
        "\n",
        "\n",
        "for k in range(1,40):\n",
        "    knn_model = KNeighborsClassifier(n_neighbors=k)\n",
        "    knn_model.fit(X_train,y_train) \n",
        "   \n",
        "    y_pred = knn_model.predict(X_test)\n",
        "    \n",
        "    test_error = 1 - accuracy_score(y_test,y_pred)\n",
        "    test_error_rates.append(test_error)"
      ],
      "execution_count": null,
      "outputs": []
    },
    {
      "cell_type": "code",
      "metadata": {
        "colab": {
          "base_uri": "https://localhost:8080/",
          "height": 400
        },
        "id": "GVnkX8jYR6bN",
        "outputId": "9211af9e-8bb9-4202-dea4-1c3770ff3abc"
      },
      "source": [
        "plt.figure(figsize=(6,4),dpi=100)\n",
        "plt.plot(range(1,40),test_error_rates,label='Test Error')\n",
        "plt.legend()\n",
        "plt.ylabel('Error Rate')\n",
        "plt.xlabel(\"K Value\")"
      ],
      "execution_count": null,
      "outputs": [
        {
          "output_type": "execute_result",
          "data": {
            "text/plain": [
              "Text(0.5, 0, 'K Value')"
            ]
          },
          "metadata": {},
          "execution_count": 84
        },
        {
          "output_type": "display_data",
          "data": {
            "image/png": "[encoded data removed]",
            "text/plain": [
              "<Figure size 600x400 with 1 Axes>"
            ]
          },
          "metadata": {
            "needs_background": "light"
          }
        }
      ]
    },
    {
      "cell_type": "markdown",
      "metadata": {
        "id": "LgJCXEGtSozg"
      },
      "source": [
        "k=3 because num classes is even 0,1 so choose odd k and 3 is minum error"
      ]
    }
  ]
}